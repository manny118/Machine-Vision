{
  "nbformat": 4,
  "nbformat_minor": 0,
  "metadata": {
    "colab": {
      "provenance": []
    },
    "kernelspec": {
      "name": "python3",
      "display_name": "Python 3"
    },
    "language_info": {
      "name": "python"
    },
    "accelerator": "GPU",
    "gpuClass": "premium"
  },
  "cells": [
    {
      "cell_type": "markdown",
      "source": [
        "# Machine Learning Approach based on UNet"
      ],
      "metadata": {
        "id": "_vkoc-LNMT4_"
      }
    },
    {
      "cell_type": "code",
      "execution_count": null,
      "metadata": {
        "colab": {
          "base_uri": "https://localhost:8080/"
        },
        "id": "agbiMhbWu7Ix",
        "outputId": "9b9ffb7f-d888-4905-d513-9868b3e81792"
      },
      "outputs": [
        {
          "output_type": "stream",
          "name": "stdout",
          "text": [
            "Drive already mounted at /content/drive; to attempt to forcibly remount, call drive.mount(\"/content/drive\", force_remount=True).\n"
          ]
        }
      ],
      "source": [
        "# Drive is mounted\n",
        "from google.colab import drive\n",
        "drive.mount('/content/drive')"
      ]
    },
    {
      "cell_type": "code",
      "source": [
        "# Imports\n",
        "import tensorflow as tf\n",
        "import numpy as np\n",
        "import pandas as pd\n",
        "from keras.preprocessing.image import ImageDataGenerator\n",
        "from keras.layers import *\n",
        "from keras.models import *\n",
        "from keras.metrics import *\n",
        "from tensorflow.keras.preprocessing import image_dataset_from_directory\n"
      ],
      "metadata": {
        "id": "h_27p2rHwmy6"
      },
      "execution_count": null,
      "outputs": []
    },
    {
      "cell_type": "code",
      "source": [
        "# Chech GPU - Colab Pro\n",
        "import os\n",
        "import torch\n",
        "os.environ[\"CUDA_DEVICE_ORDER\"] = \"PCI_BUS_ID\"\n",
        "os.environ[\"CUDA_VISIBLE_DEVICES\"] = \"0\"\n",
        "print(f\"Using GPU is CUDA:{os.environ['CUDA_VISIBLE_DEVICES']}\")\n",
        "\n",
        "for i in range(torch.cuda.device_count()):\n",
        "    info = torch.cuda.get_device_properties(i)\n",
        "    print(f\"CUDA:{i} {info.name}, {info.total_memory / 1024 ** 2}MB\")\n",
        "\n",
        "device = torch.device(\"cuda:0\")"
      ],
      "metadata": {
        "colab": {
          "base_uri": "https://localhost:8080/"
        },
        "id": "IcjaYbcU_DFu",
        "outputId": "8570925e-2cfc-4942-a5a7-5393722614f4"
      },
      "execution_count": null,
      "outputs": [
        {
          "output_type": "stream",
          "name": "stdout",
          "text": [
            "Using GPU is CUDA:0\n",
            "CUDA:0 A100-SXM4-40GB, 40536.1875MB\n"
          ]
        }
      ]
    },
    {
      "cell_type": "code",
      "source": [
        "class AppleCounting():\n",
        "  def __init__(self):\n",
        "    self.datagenTrain = ImageDataGenerator(validation_split = 0.65)\n",
        "    self.datagenValid = ImageDataGenerator(validation_split = 0.5)\n",
        "    self.datagen = ImageDataGenerator()\n",
        "    self.autotune = AUTOTUNE = tf.data.experimental.AUTOTUNE\n",
        "    return\n",
        "\n",
        "  def load_data(self):\n",
        "    print(\"... Data loading ...\")\n",
        "    # prepare an iterators for each dataset\n",
        "    # images are converted to grayscale first to reduce training time\n",
        "    # for traning data, we have +64k images, we set a validation_split to only use 45%\n",
        "    path = '/content/drive/My Drive/mldata_full/train'\n",
        "    self.trainData = self.datagenTrain.flow_from_directory(path, shuffle=True, class_mode=\"categorical\", target_size=(224, 224),\n",
        "                                                   subset='training', color_mode = 'grayscale', batch_size = 64)\n",
        "    # for validation data, we have +3.9k images, we set a validation split to only use 50%\n",
        "    path = '/content/drive/My Drive/mldata_full/valid'\n",
        "    self.validData = self.datagenValid.flow_from_directory(path, shuffle=True, class_mode=\"categorical\", target_size=(224, 224),\n",
        "                                                   subset='validation', color_mode = 'grayscale', batch_size = 64)\n",
        "    # the test dataset is fully loaded\n",
        "    path = '/content/drive/My Drive/mldata/test'\n",
        "    self.testData = self.datagen.flow_from_directory(path, shuffle=True, class_mode=\"categorical\", target_size=(224, 224), \n",
        "                                                     color_mode = 'grayscale', batch_size = 64)\n",
        "    print(\"... Done ...\")\n",
        "    return\n",
        "\n",
        "  def preprocess_data(self):\n",
        "    print(\"... Pre processing data ...\")\n",
        "    self.trainData = (self.trainData.map(toFloat).cache().prefetch(buffer_size=self.autotune))\n",
        "    self.validData = (self.validData.map(toFloat).cache().prefetch(buffer_size=self.autotune))\n",
        "    self.testData = (self.testData.map(toFloat).cache().prefetch(buffer_size=self.autotune))\n",
        "    print(\"... Done ...\")\n",
        "    return\n",
        "\n",
        "  def get_unet(self, IMG_WIDTH=224,IMG_HEIGHT=224,IMG_CHANNELS=1):\n",
        "    print(\"... Building UNet ...\")\n",
        "    inputs = Input((IMG_HEIGHT, IMG_WIDTH, IMG_CHANNELS))\n",
        "    s = Lambda(lambda x: x / 255) (inputs)\n",
        "    \n",
        "    c1 = Conv2D(16, (3, 3), activation='relu', kernel_initializer='he_normal', padding='same') (s)\n",
        "    c1 = BatchNormalization() (c1)\n",
        "    c1 = Dropout(0.4) (c1)\n",
        "    p1 = MaxPooling2D((2, 2)) (c1)\n",
        "\n",
        "    c2 = Conv2D(32, (3, 3), activation='relu', kernel_initializer='he_normal', padding='same') (p1)\n",
        "    c2 = BatchNormalization() (c2)\n",
        "    c2 = Dropout(0.4) (c2)\n",
        "    p2 = MaxPooling2D((2, 2)) (c2)\n",
        "\n",
        "    c3 = Conv2D(64, (3, 3), activation='relu', kernel_initializer='he_normal', padding='same') (p2)\n",
        "    c3 = BatchNormalization() (c3)\n",
        "    c3 = Dropout(0.4) (c3)\n",
        "    p3 = MaxPooling2D((2, 2)) (c3)\n",
        "\n",
        "    c4 = Conv2D(128, (3, 3), activation='relu', kernel_initializer='he_normal', padding='same') (p3)\n",
        "    c4 = BatchNormalization() (c4)\n",
        "    c4 = Dropout(0.4) (c4)\n",
        "    p4 = MaxPooling2D(pool_size=(2, 2)) (c4)\n",
        "\n",
        "    c5 = Conv2D(256, (3, 3), activation='relu', kernel_initializer='he_normal', padding='same') (p4)\n",
        "    c5 = BatchNormalization() (c5)\n",
        "    c5 = Dropout(0.4) (c5)\n",
        "    \n",
        "    u6 = Conv2DTranspose(128, (2, 2), strides=(2, 2), padding='same') (c5)\n",
        "    u6 = concatenate([u6, c4])\n",
        "    c6 = Conv2D(128, (3, 3), activation='relu', kernel_initializer='he_normal', padding='same')(u6)\n",
        "    c6 = BatchNormalization() (c6)\n",
        "    c6 = Dropout(0.4) (c6)\n",
        "\n",
        "    u7 = Conv2DTranspose(64, (2, 2), strides=(2, 2), padding='same') (c6)\n",
        "    u7 = concatenate([u7, c3])\n",
        "    c7 = Conv2D(64, (3, 3), activation='relu', kernel_initializer='he_normal', padding='same') (u7)\n",
        "    c7 = BatchNormalization() (c7)\n",
        "    c7 = Dropout(0.4) (c7)\n",
        "\n",
        "    u8 = Conv2DTranspose(32, (2, 2), strides=(2, 2), padding='same') (c7)\n",
        "    u8 = concatenate([u8, c2])\n",
        "    c8 = Conv2D(32, (3, 3), activation='relu', kernel_initializer='he_normal', padding='same') (u8)\n",
        "    c8 = BatchNormalization() (c8)\n",
        "    c8 = Dropout(0.4) (c8)\n",
        "\n",
        "    u9 = Conv2DTranspose(16, (2, 2), strides=(2, 2), padding='same') (c8)\n",
        "    u9 = concatenate([u9, c1], axis=3)\n",
        "    c9 = Conv2D(16, (3, 3), activation='relu', kernel_initializer='he_normal', padding='same') (u9)\n",
        "    c9 = BatchNormalization() (c9)\n",
        "    c9 = Dropout(0.4) (c9)\n",
        "    \n",
        "    d11 = Flatten() (c9)\n",
        "\n",
        "    outputs = Dense(4, activation='softmax') (d11)\n",
        "    self.model = Model(inputs=[inputs], outputs=[outputs])\n",
        "    print(\"... Compiling UNet ...\")\n",
        "    self.model.compile(optimizer='adam',loss='categorical_crossentropy', metrics =['accuracy', 'mae'])\n",
        "    print(\"... Done ...\")\n",
        "    return\n",
        "\n",
        "  def train(self):\n",
        "    self.history = self.model.fit(self.trainData, \n",
        "                                  validation_data = self.validData,\n",
        "                                  steps_per_epoch = self.trainData.n//self.trainData.batch_size,\n",
        "                                  validation_steps = self.validData.n//self.validData.batch_size,\n",
        "                                  epochs=30, verbose=1)\n",
        "    return\n",
        "\n",
        "def toFloat(image, label):\n",
        "    image = tf.image.convert_image_dtype(image, dtype=tf.float32)\n",
        "    return image, label\n"
      ],
      "metadata": {
        "id": "n7u45q4Iwt-x"
      },
      "execution_count": null,
      "outputs": []
    },
    {
      "cell_type": "code",
      "source": [
        "# load data\n",
        "ac = AppleCounting()\n",
        "ac.load_data()"
      ],
      "metadata": {
        "colab": {
          "base_uri": "https://localhost:8080/"
        },
        "id": "_dHs7Q4kymM9",
        "outputId": "9c4f21f1-9222-46ab-d757-af1c1d023825"
      },
      "execution_count": null,
      "outputs": [
        {
          "output_type": "stream",
          "name": "stdout",
          "text": [
            "... Data loading ...\n",
            "Found 12919 images belonging to 4 classes.\n",
            "Found 968 images belonging to 4 classes.\n",
            "Found 273 images belonging to 4 classes.\n",
            "... Done ...\n"
          ]
        }
      ]
    },
    {
      "cell_type": "code",
      "source": [
        "# compile the model\n",
        "ac.get_unet()\n",
        "ac.model.summary()"
      ],
      "metadata": {
        "colab": {
          "base_uri": "https://localhost:8080/"
        },
        "id": "_2SDdQ6Evik_",
        "outputId": "55bfd82b-eae3-4847-97e8-880395c431d6"
      },
      "execution_count": null,
      "outputs": [
        {
          "output_type": "stream",
          "name": "stdout",
          "text": [
            "... Building UNet ...\n",
            "... Compiling UNet ...\n",
            "... Done ...\n",
            "Model: \"model_19\"\n",
            "__________________________________________________________________________________________________\n",
            " Layer (type)                   Output Shape         Param #     Connected to                     \n",
            "==================================================================================================\n",
            " input_20 (InputLayer)          [(None, 224, 224, 1  0           []                               \n",
            "                                )]                                                                \n",
            "                                                                                                  \n",
            " lambda_3 (Lambda)              (None, 224, 224, 1)  0           ['input_20[0][0]']               \n",
            "                                                                                                  \n",
            " conv2d_171 (Conv2D)            (None, 224, 224, 16  160         ['lambda_3[0][0]']               \n",
            "                                )                                                                 \n",
            "                                                                                                  \n",
            " batch_normalization_179 (Batch  (None, 224, 224, 16  64         ['conv2d_171[0][0]']             \n",
            " Normalization)                 )                                                                 \n",
            "                                                                                                  \n",
            " dropout_179 (Dropout)          (None, 224, 224, 16  0           ['batch_normalization_179[0][0]']\n",
            "                                )                                                                 \n",
            "                                                                                                  \n",
            " max_pooling2d_76 (MaxPooling2D  (None, 112, 112, 16  0          ['dropout_179[0][0]']            \n",
            " )                              )                                                                 \n",
            "                                                                                                  \n",
            " conv2d_172 (Conv2D)            (None, 112, 112, 32  4640        ['max_pooling2d_76[0][0]']       \n",
            "                                )                                                                 \n",
            "                                                                                                  \n",
            " batch_normalization_180 (Batch  (None, 112, 112, 32  128        ['conv2d_172[0][0]']             \n",
            " Normalization)                 )                                                                 \n",
            "                                                                                                  \n",
            " dropout_180 (Dropout)          (None, 112, 112, 32  0           ['batch_normalization_180[0][0]']\n",
            "                                )                                                                 \n",
            "                                                                                                  \n",
            " max_pooling2d_77 (MaxPooling2D  (None, 56, 56, 32)  0           ['dropout_180[0][0]']            \n",
            " )                                                                                                \n",
            "                                                                                                  \n",
            " conv2d_173 (Conv2D)            (None, 56, 56, 64)   18496       ['max_pooling2d_77[0][0]']       \n",
            "                                                                                                  \n",
            " batch_normalization_181 (Batch  (None, 56, 56, 64)  256         ['conv2d_173[0][0]']             \n",
            " Normalization)                                                                                   \n",
            "                                                                                                  \n",
            " dropout_181 (Dropout)          (None, 56, 56, 64)   0           ['batch_normalization_181[0][0]']\n",
            "                                                                                                  \n",
            " max_pooling2d_78 (MaxPooling2D  (None, 28, 28, 64)  0           ['dropout_181[0][0]']            \n",
            " )                                                                                                \n",
            "                                                                                                  \n",
            " conv2d_174 (Conv2D)            (None, 28, 28, 128)  73856       ['max_pooling2d_78[0][0]']       \n",
            "                                                                                                  \n",
            " batch_normalization_182 (Batch  (None, 28, 28, 128)  512        ['conv2d_174[0][0]']             \n",
            " Normalization)                                                                                   \n",
            "                                                                                                  \n",
            " dropout_182 (Dropout)          (None, 28, 28, 128)  0           ['batch_normalization_182[0][0]']\n",
            "                                                                                                  \n",
            " max_pooling2d_79 (MaxPooling2D  (None, 14, 14, 128)  0          ['dropout_182[0][0]']            \n",
            " )                                                                                                \n",
            "                                                                                                  \n",
            " conv2d_175 (Conv2D)            (None, 14, 14, 256)  295168      ['max_pooling2d_79[0][0]']       \n",
            "                                                                                                  \n",
            " batch_normalization_183 (Batch  (None, 14, 14, 256)  1024       ['conv2d_175[0][0]']             \n",
            " Normalization)                                                                                   \n",
            "                                                                                                  \n",
            " dropout_183 (Dropout)          (None, 14, 14, 256)  0           ['batch_normalization_183[0][0]']\n",
            "                                                                                                  \n",
            " conv2d_transpose_76 (Conv2DTra  (None, 28, 28, 128)  131200     ['dropout_183[0][0]']            \n",
            " nspose)                                                                                          \n",
            "                                                                                                  \n",
            " concatenate_76 (Concatenate)   (None, 28, 28, 256)  0           ['conv2d_transpose_76[0][0]',    \n",
            "                                                                  'dropout_182[0][0]']            \n",
            "                                                                                                  \n",
            " conv2d_176 (Conv2D)            (None, 28, 28, 128)  295040      ['concatenate_76[0][0]']         \n",
            "                                                                                                  \n",
            " batch_normalization_184 (Batch  (None, 28, 28, 128)  512        ['conv2d_176[0][0]']             \n",
            " Normalization)                                                                                   \n",
            "                                                                                                  \n",
            " dropout_184 (Dropout)          (None, 28, 28, 128)  0           ['batch_normalization_184[0][0]']\n",
            "                                                                                                  \n",
            " conv2d_transpose_77 (Conv2DTra  (None, 56, 56, 64)  32832       ['dropout_184[0][0]']            \n",
            " nspose)                                                                                          \n",
            "                                                                                                  \n",
            " concatenate_77 (Concatenate)   (None, 56, 56, 128)  0           ['conv2d_transpose_77[0][0]',    \n",
            "                                                                  'dropout_181[0][0]']            \n",
            "                                                                                                  \n",
            " conv2d_177 (Conv2D)            (None, 56, 56, 64)   73792       ['concatenate_77[0][0]']         \n",
            "                                                                                                  \n",
            " batch_normalization_185 (Batch  (None, 56, 56, 64)  256         ['conv2d_177[0][0]']             \n",
            " Normalization)                                                                                   \n",
            "                                                                                                  \n",
            " dropout_185 (Dropout)          (None, 56, 56, 64)   0           ['batch_normalization_185[0][0]']\n",
            "                                                                                                  \n",
            " conv2d_transpose_78 (Conv2DTra  (None, 112, 112, 32  8224       ['dropout_185[0][0]']            \n",
            " nspose)                        )                                                                 \n",
            "                                                                                                  \n",
            " concatenate_78 (Concatenate)   (None, 112, 112, 64  0           ['conv2d_transpose_78[0][0]',    \n",
            "                                )                                 'dropout_180[0][0]']            \n",
            "                                                                                                  \n",
            " conv2d_178 (Conv2D)            (None, 112, 112, 32  18464       ['concatenate_78[0][0]']         \n",
            "                                )                                                                 \n",
            "                                                                                                  \n",
            " batch_normalization_186 (Batch  (None, 112, 112, 32  128        ['conv2d_178[0][0]']             \n",
            " Normalization)                 )                                                                 \n",
            "                                                                                                  \n",
            " dropout_186 (Dropout)          (None, 112, 112, 32  0           ['batch_normalization_186[0][0]']\n",
            "                                )                                                                 \n",
            "                                                                                                  \n",
            " conv2d_transpose_79 (Conv2DTra  (None, 224, 224, 16  2064       ['dropout_186[0][0]']            \n",
            " nspose)                        )                                                                 \n",
            "                                                                                                  \n",
            " concatenate_79 (Concatenate)   (None, 224, 224, 32  0           ['conv2d_transpose_79[0][0]',    \n",
            "                                )                                 'dropout_179[0][0]']            \n",
            "                                                                                                  \n",
            " conv2d_179 (Conv2D)            (None, 224, 224, 16  4624        ['concatenate_79[0][0]']         \n",
            "                                )                                                                 \n",
            "                                                                                                  \n",
            " batch_normalization_187 (Batch  (None, 224, 224, 16  64         ['conv2d_179[0][0]']             \n",
            " Normalization)                 )                                                                 \n",
            "                                                                                                  \n",
            " dropout_187 (Dropout)          (None, 224, 224, 16  0           ['batch_normalization_187[0][0]']\n",
            "                                )                                                                 \n",
            "                                                                                                  \n",
            " flatten_19 (Flatten)           (None, 802816)       0           ['dropout_187[0][0]']            \n",
            "                                                                                                  \n",
            " dense_27 (Dense)               (None, 4)            3211268     ['flatten_19[0][0]']             \n",
            "                                                                                                  \n",
            "==================================================================================================\n",
            "Total params: 4,172,772\n",
            "Trainable params: 4,171,300\n",
            "Non-trainable params: 1,472\n",
            "__________________________________________________________________________________________________\n"
          ]
        }
      ]
    },
    {
      "cell_type": "code",
      "source": [
        "# train the model\n",
        "ac.train()"
      ],
      "metadata": {
        "colab": {
          "base_uri": "https://localhost:8080/"
        },
        "id": "zKPrPBTgv4NG",
        "outputId": "efb7efc7-54f5-49cb-add4-db0b6c302361"
      },
      "execution_count": null,
      "outputs": [
        {
          "output_type": "stream",
          "name": "stdout",
          "text": [
            "Epoch 1/30\n",
            "201/201 [==============================] - 150s 744ms/step - loss: 11.6029 - accuracy: 0.4509 - mae: 0.2754 - val_loss: 14.4066 - val_accuracy: 0.3052 - val_mae: 0.3484\n",
            "Epoch 2/30\n",
            "201/201 [==============================] - 22s 109ms/step - loss: 8.6302 - accuracy: 0.6070 - mae: 0.1960 - val_loss: 10.0457 - val_accuracy: 0.4000 - val_mae: 0.3005\n",
            "Epoch 3/30\n",
            "201/201 [==============================] - 22s 109ms/step - loss: 5.1560 - accuracy: 0.7241 - mae: 0.1385 - val_loss: 10.4364 - val_accuracy: 0.4635 - val_mae: 0.2666\n",
            "Epoch 4/30\n",
            "201/201 [==============================] - 22s 111ms/step - loss: 3.1392 - accuracy: 0.7958 - mae: 0.1022 - val_loss: 12.8492 - val_accuracy: 0.4542 - val_mae: 0.2716\n",
            "Epoch 5/30\n",
            "201/201 [==============================] - 22s 109ms/step - loss: 1.9920 - accuracy: 0.8398 - mae: 0.0802 - val_loss: 13.1749 - val_accuracy: 0.5146 - val_mae: 0.2419\n",
            "Epoch 6/30\n",
            "201/201 [==============================] - 22s 111ms/step - loss: 1.2958 - accuracy: 0.8786 - mae: 0.0615 - val_loss: 9.3133 - val_accuracy: 0.5562 - val_mae: 0.2206\n",
            "Epoch 7/30\n",
            "201/201 [==============================] - 22s 109ms/step - loss: 0.8220 - accuracy: 0.9074 - mae: 0.0471 - val_loss: 7.5101 - val_accuracy: 0.5969 - val_mae: 0.1997\n",
            "Epoch 8/30\n",
            "201/201 [==============================] - 22s 110ms/step - loss: 0.6572 - accuracy: 0.9186 - mae: 0.0414 - val_loss: 7.3984 - val_accuracy: 0.5896 - val_mae: 0.2079\n",
            "Epoch 9/30\n",
            "201/201 [==============================] - 22s 109ms/step - loss: 0.4597 - accuracy: 0.9313 - mae: 0.0351 - val_loss: 7.9918 - val_accuracy: 0.5427 - val_mae: 0.2282\n",
            "Epoch 10/30\n",
            "201/201 [==============================] - 22s 109ms/step - loss: 0.3388 - accuracy: 0.9468 - mae: 0.0277 - val_loss: 7.0182 - val_accuracy: 0.5542 - val_mae: 0.2225\n",
            "Epoch 11/30\n",
            "201/201 [==============================] - 22s 110ms/step - loss: 0.2794 - accuracy: 0.9506 - mae: 0.0256 - val_loss: 6.0868 - val_accuracy: 0.5990 - val_mae: 0.1987\n",
            "Epoch 12/30\n",
            "201/201 [==============================] - 22s 109ms/step - loss: 0.2273 - accuracy: 0.9553 - mae: 0.0231 - val_loss: 6.4373 - val_accuracy: 0.5760 - val_mae: 0.2117\n",
            "Epoch 13/30\n",
            "201/201 [==============================] - 22s 110ms/step - loss: 0.1446 - accuracy: 0.9671 - mae: 0.0174 - val_loss: 5.2881 - val_accuracy: 0.5948 - val_mae: 0.2021\n",
            "Epoch 14/30\n",
            "201/201 [==============================] - 22s 109ms/step - loss: 0.1405 - accuracy: 0.9663 - mae: 0.0180 - val_loss: 5.4665 - val_accuracy: 0.5938 - val_mae: 0.2028\n",
            "Epoch 15/30\n",
            "201/201 [==============================] - 22s 109ms/step - loss: 0.1168 - accuracy: 0.9734 - mae: 0.0149 - val_loss: 4.9224 - val_accuracy: 0.5990 - val_mae: 0.2026\n",
            "Epoch 16/30\n",
            "201/201 [==============================] - 22s 110ms/step - loss: 0.0972 - accuracy: 0.9740 - mae: 0.0144 - val_loss: 4.7481 - val_accuracy: 0.6010 - val_mae: 0.1984\n",
            "Epoch 17/30\n",
            "201/201 [==============================] - 22s 110ms/step - loss: 0.0854 - accuracy: 0.9766 - mae: 0.0131 - val_loss: 4.5288 - val_accuracy: 0.6021 - val_mae: 0.2004\n",
            "Epoch 18/30\n",
            "201/201 [==============================] - 22s 110ms/step - loss: 0.0601 - accuracy: 0.9799 - mae: 0.0116 - val_loss: 4.9355 - val_accuracy: 0.5917 - val_mae: 0.2073\n",
            "Epoch 19/30\n",
            "201/201 [==============================] - 22s 109ms/step - loss: 0.0605 - accuracy: 0.9831 - mae: 0.0107 - val_loss: 3.6536 - val_accuracy: 0.6573 - val_mae: 0.1747\n",
            "Epoch 20/30\n",
            "201/201 [==============================] - 22s 111ms/step - loss: 0.0643 - accuracy: 0.9809 - mae: 0.0117 - val_loss: 3.7091 - val_accuracy: 0.6250 - val_mae: 0.1863\n",
            "Epoch 21/30\n",
            "201/201 [==============================] - 22s 110ms/step - loss: 0.0531 - accuracy: 0.9833 - mae: 0.0105 - val_loss: 3.1844 - val_accuracy: 0.6438 - val_mae: 0.1806\n",
            "Epoch 22/30\n",
            "201/201 [==============================] - 22s 110ms/step - loss: 0.0576 - accuracy: 0.9836 - mae: 0.0105 - val_loss: 3.7786 - val_accuracy: 0.5948 - val_mae: 0.2042\n",
            "Epoch 23/30\n",
            "201/201 [==============================] - 22s 110ms/step - loss: 0.0501 - accuracy: 0.9843 - mae: 0.0104 - val_loss: 3.1571 - val_accuracy: 0.6385 - val_mae: 0.1840\n",
            "Epoch 24/30\n",
            "201/201 [==============================] - 22s 110ms/step - loss: 0.0407 - accuracy: 0.9880 - mae: 0.0084 - val_loss: 2.9061 - val_accuracy: 0.6385 - val_mae: 0.1813\n",
            "Epoch 25/30\n",
            "201/201 [==============================] - 22s 109ms/step - loss: 0.0415 - accuracy: 0.9876 - mae: 0.0088 - val_loss: 3.1496 - val_accuracy: 0.6219 - val_mae: 0.1909\n",
            "Epoch 26/30\n",
            "201/201 [==============================] - 22s 109ms/step - loss: 0.0390 - accuracy: 0.9891 - mae: 0.0078 - val_loss: 2.9783 - val_accuracy: 0.6365 - val_mae: 0.1853\n",
            "Epoch 27/30\n",
            "201/201 [==============================] - 22s 110ms/step - loss: 0.0382 - accuracy: 0.9892 - mae: 0.0084 - val_loss: 3.2132 - val_accuracy: 0.6010 - val_mae: 0.2002\n",
            "Epoch 28/30\n",
            "201/201 [==============================] - 22s 109ms/step - loss: 0.0322 - accuracy: 0.9901 - mae: 0.0080 - val_loss: 2.9651 - val_accuracy: 0.6438 - val_mae: 0.1809\n",
            "Epoch 29/30\n",
            "201/201 [==============================] - 22s 109ms/step - loss: 0.0464 - accuracy: 0.9865 - mae: 0.0093 - val_loss: 2.7395 - val_accuracy: 0.6427 - val_mae: 0.1856\n",
            "Epoch 30/30\n",
            "201/201 [==============================] - 22s 111ms/step - loss: 0.0378 - accuracy: 0.9881 - mae: 0.0092 - val_loss: 2.9963 - val_accuracy: 0.6021 - val_mae: 0.1994\n"
          ]
        }
      ]
    },
    {
      "cell_type": "code",
      "source": [
        "# get loss and accuracy graphs\n",
        "history_frame = pd.DataFrame(ac.history.history)\n",
        "history_frame.loc[:, ['loss', 'val_loss']].plot()\n",
        "history_frame.loc[:, ['accuracy', 'val_accuracy']].plot();"
      ],
      "metadata": {
        "colab": {
          "base_uri": "https://localhost:8080/",
          "height": 513
        },
        "id": "9pxs_Ad5iCdZ",
        "outputId": "8a101ace-8bd0-4021-8b50-ce0b5cd36d9e"
      },
      "execution_count": null,
      "outputs": [
        {
          "output_type": "display_data",
          "data": {
            "text/plain": [
              "<Figure size 432x288 with 1 Axes>"
            ],
            "image/png": "[encoded data removed]"
          },
          "metadata": {
            "needs_background": "light"
          }
        },
        {
          "output_type": "display_data",
          "data": {
            "text/plain": [
              "<Figure size 432x288 with 1 Axes>"
            ],
            "image/png": "[encoded data removed]"
          },
          "metadata": {
            "needs_background": "light"
          }
        }
      ]
    },
    {
      "cell_type": "code",
      "source": [
        "ac.model.evaluate(ac.testData)"
      ],
      "metadata": {
        "colab": {
          "base_uri": "https://localhost:8080/"
        },
        "id": "M0f78NL7Dh-g",
        "outputId": "4d1afd91-a931-4180-ea2f-16b29c6207ca"
      },
      "execution_count": null,
      "outputs": [
        {
          "output_type": "stream",
          "name": "stdout",
          "text": [
            "5/5 [==============================] - 1s 86ms/step - loss: 3.8110 - accuracy: 0.6154 - mae: 0.1953\n"
          ]
        },
        {
          "output_type": "execute_result",
          "data": {
            "text/plain": [
              "[3.8109724521636963, 0.6153846383094788, 0.19530797004699707]"
            ]
          },
          "metadata": {},
          "execution_count": 129
        }
      ]
    },
    {
      "cell_type": "code",
      "source": [
        "datagen = ImageDataGenerator()\n",
        "path = '/content/drive/My Drive/mldata/tests/test'\n",
        "results = []\n",
        "for i in range(11):\n",
        "  pathX = path + str(i+1)\n",
        "  testData = datagen.flow_from_directory(pathX, shuffle=False, class_mode=\"categorical\", target_size=(224, 224), \n",
        "                                                     color_mode = 'grayscale')\n",
        "  results.append(ac.model.evaluate(testData))\n",
        "\n",
        "for i in results:\n",
        "  print(i)"
      ],
      "metadata": {
        "colab": {
          "base_uri": "https://localhost:8080/"
        },
        "id": "2AL68aWzhePx",
        "outputId": "6b18b108-c010-45ee-f232-d95a05c9ffb2"
      },
      "execution_count": null,
      "outputs": [
        {
          "output_type": "stream",
          "name": "stdout",
          "text": [
            "Found 50 images belonging to 1 classes.\n",
            "2/2 [==============================] - 0s 26ms/step - loss: 36.9119 - accuracy: 0.8200 - mae: 0.7500\n",
            "Found 50 images belonging to 1 classes.\n",
            "2/2 [==============================] - 0s 28ms/step - loss: 58.4363 - accuracy: 0.8200 - mae: 0.7500\n",
            "Found 50 images belonging to 1 classes.\n",
            "2/2 [==============================] - 15s 15s/step - loss: 58.8302 - accuracy: 0.9000 - mae: 0.7500\n",
            "Found 13 images belonging to 1 classes.\n",
            "1/1 [==============================] - 0s 216ms/step - loss: 65.7865 - accuracy: 0.8462 - mae: 0.7500\n",
            "Found 21 images belonging to 1 classes.\n",
            "1/1 [==============================] - 0s 74ms/step - loss: 33.5796 - accuracy: 0.6190 - mae: 0.7500\n",
            "Found 21 images belonging to 1 classes.\n",
            "1/1 [==============================] - 0s 79ms/step - loss: 30.5182 - accuracy: 0.5714 - mae: 0.7500\n",
            "Found 21 images belonging to 1 classes.\n",
            "1/1 [==============================] - 0s 78ms/step - loss: 48.5821 - accuracy: 0.4762 - mae: 0.7500\n",
            "Found 5 images belonging to 1 classes.\n",
            "1/1 [==============================] - 0s 155ms/step - loss: 47.6985 - accuracy: 0.8000 - mae: 0.7500\n",
            "Found 21 images belonging to 1 classes.\n",
            "1/1 [==============================] - 0s 83ms/step - loss: 36.5833 - accuracy: 0.3810 - mae: 0.7500\n",
            "Found 16 images belonging to 1 classes.\n",
            "1/1 [==============================] - 0s 229ms/step - loss: 41.8343 - accuracy: 0.3750 - mae: 0.7500\n",
            "Found 7 images belonging to 1 classes.\n",
            "1/1 [==============================] - 0s 172ms/step - loss: 35.3738 - accuracy: 0.0000e+00 - mae: 0.7500\n",
            "[36.91189956665039, 0.8199999928474426, 0.75]\n",
            "[58.4362907409668, 0.8199999928474426, 0.75]\n",
            "[58.83015441894531, 0.8999999761581421, 0.75]\n",
            "[65.78648376464844, 0.8461538553237915, 0.75]\n",
            "[33.579559326171875, 0.6190476417541504, 0.75]\n",
            "[30.518203735351562, 0.5714285969734192, 0.75]\n",
            "[48.582061767578125, 0.4761904776096344, 0.75]\n",
            "[47.69849395751953, 0.800000011920929, 0.75]\n",
            "[36.58333969116211, 0.380952388048172, 0.75]\n",
            "[41.83425521850586, 0.375, 0.75]\n",
            "[35.37382507324219, 0.0, 0.75]\n"
          ]
        }
      ]
    },
    {
      "cell_type": "markdown",
      "source": [
        "# Machine Learning Approach based on CNNs and Dense Layers"
      ],
      "metadata": {
        "id": "tXG4MUihhhfE"
      }
    },
    {
      "cell_type": "code",
      "source": [
        "# Imports\n",
        "import tensorflow as tf\n",
        "from tensorflow import keras\n",
        "from tensorflow.keras.preprocessing import image_dataset_from_directory\n",
        "from tensorflow.keras import layers\n",
        "from tensorflow.keras.layers import Conv2D, Flatten, Dense, Activation, BatchNormalization, Dropout\n",
        "from tensorflow.keras.models import Sequential\n",
        "from keras.preprocessing.image import ImageDataGenerator\n",
        "from keras.layers import MaxPool2D\n",
        "import math, re\n",
        "import pandas as pd\n",
        "import matplotlib.pyplot as plt\n",
        "from matplotlib import gridspec\n",
        "import pandas as pd\n",
        "import os\n",
        "import tensorflow as tf\n",
        "import numpy as np"
      ],
      "metadata": {
        "id": "EtSxnNjWhhNn"
      },
      "execution_count": null,
      "outputs": []
    },
    {
      "cell_type": "code",
      "source": [
        "### read the groundtruth json file\n",
        "import json\n",
        "with open('/content/drive/My Drive/ground_truth.json', \n",
        "          'r') as f:\n",
        "    ground_truth = json.load(f)\n",
        "\n",
        "pd1 = pd.DataFrame(ground_truth, index=[0])\n",
        "pd1[\"testset2_931cluster_8_count0.png\"] #verify input is correct"
      ],
      "metadata": {
        "colab": {
          "base_uri": "https://localhost:8080/"
        },
        "id": "u2KPo9ethpfg",
        "outputId": "e19186f6-ba90-4060-8db5-d6a52400c607"
      },
      "execution_count": null,
      "outputs": [
        {
          "output_type": "execute_result",
          "data": {
            "text/plain": [
              "0    2\n",
              "Name: testset2_931cluster_8_count0.png, dtype: object"
            ]
          },
          "metadata": {},
          "execution_count": 135
        }
      ]
    },
    {
      "cell_type": "code",
      "source": [
        "# A function for verification to ensure the labels are correctly read \n",
        "def readLabels(path):\n",
        "  filenames = []\n",
        "  for root, dirs, files in os.walk(path, topdown=True):\n",
        "    for name in files:\n",
        "      filenames.append(name)\n",
        "  \n",
        "  labels = []\n",
        "  for i in range(len(filenames)):\n",
        "    strSub = (filenames)[i]\n",
        "    labels.append(strSub)\n",
        "  return labels\n",
        "\n",
        "train_labels =  readLabels(\"/content/drive/My Drive/ml\")\n",
        "valid_labels = readLabels('/content/drive/My Drive/mlvalid/')\n",
        "test_labels = readLabels('/content/drive/My Drive/mltest/')\n",
        "\n",
        "\n",
        "valid_labels_values = pd1[valid_labels] ##pd1 is the json groundtruth \n",
        "test_labels_values = pd1[test_labels]\n",
        "train_labels_values = pd1[train_labels]\n",
        "\n",
        "train_labels_values = list([int(x) for x in ((train_labels_values.values)[0]) ])\n",
        "train_labels_values[:5] #show the first 5 values\n",
        "\n",
        "test_labels_values = list([int(x) for x in ((test_labels_values.values)[0]) ])\n",
        "test_labels_values[:5] #show the first 5 values\n",
        "\n",
        "valid_labels_values = list([int(x) for x in ((valid_labels_values.values)[0]) ])\n",
        "valid_labels_values[:5] #show the first 5 values"
      ],
      "metadata": {
        "colab": {
          "base_uri": "https://localhost:8080/"
        },
        "id": "KJyub3IXh5OA",
        "outputId": "1491cbb6-1c09-4957-a53c-121de782a77f"
      },
      "execution_count": null,
      "outputs": [
        {
          "output_type": "execute_result",
          "data": {
            "text/plain": [
              "[3, 1, 2, 1, 3]"
            ]
          },
          "metadata": {},
          "execution_count": 138
        }
      ]
    },
    {
      "cell_type": "code",
      "source": [
        "# Load the training, validation and testing sets from drive\n",
        "trainset = image_dataset_from_directory(\n",
        "    '/content/drive/My Drive/ml/',\n",
        "    labels=train_labels_values,\n",
        "    label_mode='int',\n",
        "    image_size=[224, 224],\n",
        "    interpolation='nearest',\n",
        "    batch_size=16,\n",
        "    color_mode = \"grayscale\",\n",
        "    shuffle=False,\n",
        ")\n",
        "\n",
        "validset = image_dataset_from_directory(\n",
        "    '/content/drive/My Drive/mlvalid/',\n",
        "    labels=valid_labels_values,\n",
        "    label_mode='int',\n",
        "    image_size=[224, 224],\n",
        "    interpolation='nearest',\n",
        "    batch_size=16,\n",
        "    color_mode = \"grayscale\",\n",
        "    shuffle=False,\n",
        ")\n",
        "\n",
        "testsetdata = image_dataset_from_directory(\n",
        "    '/content/drive/My Drive/mltest/',\n",
        "    labels=test_labels_values,\n",
        "    label_mode='int',\n",
        "    image_size=[224, 224],\n",
        "    interpolation='nearest',\n",
        "    batch_size=16,\n",
        "    color_mode = \"grayscale\",\n",
        "    shuffle=False,\n",
        ")\n",
        "\n",
        "def toFloat(image, label):\n",
        "    image = tf.image.convert_image_dtype(image, dtype=tf.float32)\n",
        "    return image, label\n",
        "\n",
        "AUTOTUNE = tf.data.experimental.AUTOTUNE\n",
        "trainset = (trainset.map(toFloat).cache().prefetch(buffer_size=AUTOTUNE))\n",
        "validset = (validset.map(toFloat).cache().prefetch(buffer_size=AUTOTUNE))\n",
        "testsetdata = (testsetdata.map(toFloat).cache().prefetch(buffer_size=AUTOTUNE))"
      ],
      "metadata": {
        "colab": {
          "base_uri": "https://localhost:8080/"
        },
        "id": "aiKI1BS3iY3N",
        "outputId": "c9d5c0fd-2c74-4dd2-8d21-761e0e45c755"
      },
      "execution_count": null,
      "outputs": [
        {
          "output_type": "stream",
          "name": "stdout",
          "text": [
            "Found 2240 files belonging to 1 classes.\n",
            "Found 280 files belonging to 1 classes.\n",
            "Found 275 files belonging to 1 classes.\n"
          ]
        }
      ]
    },
    {
      "cell_type": "code",
      "source": [
        "##convolutional NN\n",
        "model = tf.keras.Sequential()\n",
        "model.add(tf.keras.Input(shape=(224, 224, 1)))\n",
        "model.add(Conv2D(256, (3, 3), padding=\"same\", activation=\"relu\"))\n",
        "model.add(Conv2D(64, (3, 3), padding=\"same\", activation=\"relu\"))\n",
        "model.add(Conv2D(32, (3, 3), padding=\"valid\", activation=\"relu\"))\n",
        "model.add(MaxPool2D((2,2), strides=(2,2)))\n",
        "\n",
        "# fully-connected layer\n",
        "model.add(Flatten())\n",
        "\n",
        "model.add(Dense(6))\n",
        "model.add(Activation(\"relu\"))\n",
        "model.add(BatchNormalization())\n",
        "model.add(Dropout(0.5))\n",
        "\n",
        "model.add(Dense(256))\n",
        "model.add(Activation(\"relu\"))\n",
        "model.add(BatchNormalization())\n",
        "model.add(Dropout(0.8))\n",
        "\n",
        "model.add(Dense(64))\n",
        "model.add(Activation(\"relu\"))\n",
        "model.add(BatchNormalization())\n",
        "model.add(Dropout(0.5))\n",
        "model.add(Dense(1))  \n",
        "model.add(Activation(\"softmax\")) # softmax classifier\n",
        "model.summary()"
      ],
      "metadata": {
        "colab": {
          "base_uri": "https://localhost:8080/"
        },
        "id": "sFdRJly9igQs",
        "outputId": "41f9afa7-e673-45d5-ecf1-d87cb7109729"
      },
      "execution_count": null,
      "outputs": [
        {
          "output_type": "stream",
          "name": "stdout",
          "text": [
            "Model: \"sequential\"\n",
            "_________________________________________________________________\n",
            " Layer (type)                Output Shape              Param #   \n",
            "=================================================================\n",
            " conv2d_180 (Conv2D)         (None, 224, 224, 256)     2560      \n",
            "                                                                 \n",
            " conv2d_181 (Conv2D)         (None, 224, 224, 64)      147520    \n",
            "                                                                 \n",
            " conv2d_182 (Conv2D)         (None, 222, 222, 32)      18464     \n",
            "                                                                 \n",
            " max_pooling2d_80 (MaxPoolin  (None, 111, 111, 32)     0         \n",
            " g2D)                                                            \n",
            "                                                                 \n",
            " flatten_20 (Flatten)        (None, 394272)            0         \n",
            "                                                                 \n",
            " dense_28 (Dense)            (None, 6)                 2365638   \n",
            "                                                                 \n",
            " activation (Activation)     (None, 6)                 0         \n",
            "                                                                 \n",
            " batch_normalization_188 (Ba  (None, 6)                24        \n",
            " tchNormalization)                                               \n",
            "                                                                 \n",
            " dropout_188 (Dropout)       (None, 6)                 0         \n",
            "                                                                 \n",
            " dense_29 (Dense)            (None, 256)               1792      \n",
            "                                                                 \n",
            " activation_1 (Activation)   (None, 256)               0         \n",
            "                                                                 \n",
            " batch_normalization_189 (Ba  (None, 256)              1024      \n",
            " tchNormalization)                                               \n",
            "                                                                 \n",
            " dropout_189 (Dropout)       (None, 256)               0         \n",
            "                                                                 \n",
            " dense_30 (Dense)            (None, 64)                16448     \n",
            "                                                                 \n",
            " activation_2 (Activation)   (None, 64)                0         \n",
            "                                                                 \n",
            " batch_normalization_190 (Ba  (None, 64)               256       \n",
            " tchNormalization)                                               \n",
            "                                                                 \n",
            " dropout_190 (Dropout)       (None, 64)                0         \n",
            "                                                                 \n",
            " dense_31 (Dense)            (None, 1)                 65        \n",
            "                                                                 \n",
            " activation_3 (Activation)   (None, 1)                 0         \n",
            "                                                                 \n",
            "=================================================================\n",
            "Total params: 2,553,791\n",
            "Trainable params: 2,553,139\n",
            "Non-trainable params: 652\n",
            "_________________________________________________________________\n"
          ]
        }
      ]
    },
    {
      "cell_type": "code",
      "source": [
        "model.compile(optimizer='adam', \n",
        "              loss='mae',\n",
        "              metrics=['accuracy', 'mae'],\n",
        "              )\n",
        "history = model.fit(trainset, validation_data=validset, epochs=10, verbose=2, \n",
        "                    batch_size = 128)"
      ],
      "metadata": {
        "colab": {
          "base_uri": "https://localhost:8080/"
        },
        "id": "CoG6zJCyiki2",
        "outputId": "348df801-8331-429d-fbaa-88d12621a437"
      },
      "execution_count": null,
      "outputs": [
        {
          "output_type": "stream",
          "name": "stdout",
          "text": [
            "Epoch 1/10\n",
            "140/140 - 45s - loss: 0.3433 - accuracy: 0.7308 - mae: 0.3433 - val_loss: 0.4393 - val_accuracy: 0.6679 - val_mae: 0.4393 - 45s/epoch - 318ms/step\n",
            "Epoch 2/10\n",
            "140/140 - 4s - loss: 0.3433 - accuracy: 0.7308 - mae: 0.3433 - val_loss: 0.4393 - val_accuracy: 0.6679 - val_mae: 0.4393 - 4s/epoch - 31ms/step\n",
            "Epoch 3/10\n",
            "140/140 - 4s - loss: 0.3433 - accuracy: 0.7308 - mae: 0.3433 - val_loss: 0.4393 - val_accuracy: 0.6679 - val_mae: 0.4393 - 4s/epoch - 31ms/step\n",
            "Epoch 4/10\n",
            "140/140 - 4s - loss: 0.3433 - accuracy: 0.7308 - mae: 0.3433 - val_loss: 0.4393 - val_accuracy: 0.6679 - val_mae: 0.4393 - 4s/epoch - 31ms/step\n",
            "Epoch 5/10\n",
            "140/140 - 4s - loss: 0.3433 - accuracy: 0.7308 - mae: 0.3433 - val_loss: 0.4393 - val_accuracy: 0.6679 - val_mae: 0.4393 - 4s/epoch - 31ms/step\n",
            "Epoch 6/10\n",
            "140/140 - 4s - loss: 0.3433 - accuracy: 0.7308 - mae: 0.3433 - val_loss: 0.4393 - val_accuracy: 0.6679 - val_mae: 0.4393 - 4s/epoch - 31ms/step\n",
            "Epoch 7/10\n",
            "140/140 - 4s - loss: 0.3433 - accuracy: 0.7308 - mae: 0.3433 - val_loss: 0.4393 - val_accuracy: 0.6679 - val_mae: 0.4393 - 4s/epoch - 31ms/step\n",
            "Epoch 8/10\n",
            "140/140 - 4s - loss: 0.3433 - accuracy: 0.7308 - mae: 0.3433 - val_loss: 0.4393 - val_accuracy: 0.6679 - val_mae: 0.4393 - 4s/epoch - 31ms/step\n",
            "Epoch 9/10\n",
            "140/140 - 4s - loss: 0.3433 - accuracy: 0.7308 - mae: 0.3433 - val_loss: 0.4393 - val_accuracy: 0.6679 - val_mae: 0.4393 - 4s/epoch - 31ms/step\n",
            "Epoch 10/10\n",
            "140/140 - 4s - loss: 0.3433 - accuracy: 0.7308 - mae: 0.3433 - val_loss: 0.4393 - val_accuracy: 0.6679 - val_mae: 0.4393 - 4s/epoch - 31ms/step\n"
          ]
        }
      ]
    },
    {
      "cell_type": "code",
      "source": [
        "history_frame = pd.DataFrame(history.history)\n",
        "history_frame.loc[:, ['loss', 'val_loss']].plot()\n",
        "history_frame.loc[:, ['accuracy', 'val_accuracy']].plot();"
      ],
      "metadata": {
        "colab": {
          "base_uri": "https://localhost:8080/",
          "height": 513
        },
        "id": "S-_baR_2i_40",
        "outputId": "76b4c849-30f4-44fb-f578-4178eb70336d"
      },
      "execution_count": null,
      "outputs": [
        {
          "output_type": "display_data",
          "data": {
            "text/plain": [
              "<Figure size 432x288 with 1 Axes>"
            ],
            "image/png": "[encoded data removed]"
          },
          "metadata": {
            "needs_background": "light"
          }
        },
        {
          "output_type": "display_data",
          "data": {
            "text/plain": [
              "<Figure size 432x288 with 1 Axes>"
            ],
            "image/png": "[encoded data removed]"
          },
          "metadata": {
            "needs_background": "light"
          }
        }
      ]
    },
    {
      "cell_type": "code",
      "source": [
        "model.evaluate(testsetdata, verbose=2)"
      ],
      "metadata": {
        "colab": {
          "base_uri": "https://localhost:8080/"
        },
        "id": "wWd7mYmhjDRX",
        "outputId": "d7f32be7-0a6f-4757-b28e-765ae1f2c1ea"
      },
      "execution_count": null,
      "outputs": [
        {
          "output_type": "stream",
          "name": "stdout",
          "text": [
            "18/18 - 0s - loss: 0.3564 - accuracy: 0.7091 - mae: 0.3564 - 221ms/epoch - 12ms/step\n"
          ]
        },
        {
          "output_type": "execute_result",
          "data": {
            "text/plain": [
              "[0.3563636243343353, 0.7090908885002136, 0.3563636243343353]"
            ]
          },
          "metadata": {},
          "execution_count": 145
        }
      ]
    },
    {
      "cell_type": "code",
      "source": [
        "datagen = ImageDataGenerator()\n",
        "path = '/content/drive/My Drive/mldata/tests/test'\n",
        "resultsCnn = []\n",
        "resultsUnet = []\n",
        "for i in range(11):\n",
        "  pathX = path + str(i+1)\n",
        "  testData = datagen.flow_from_directory(pathX, shuffle=False, class_mode=\"categorical\", target_size=(224, 224), \n",
        "                                                     color_mode = 'grayscale')\n",
        "  resultsCnn.append(model.evaluate(testData))\n",
        "  resultsUnet.append(ac.model.evaluate(testData))\n"
      ],
      "metadata": {
        "colab": {
          "base_uri": "https://localhost:8080/"
        },
        "id": "AMrBThL6jb5j",
        "outputId": "6eabdd89-1456-44db-b0d7-eb34933ad3e3"
      },
      "execution_count": null,
      "outputs": [
        {
          "output_type": "stream",
          "name": "stdout",
          "text": [
            "Found 50 images belonging to 1 classes.\n",
            "2/2 [==============================] - 0s 23ms/step - loss: 0.0000e+00 - accuracy: 1.0000 - mae: 0.0000e+00\n",
            "2/2 [==============================] - 0s 26ms/step - loss: 36.9119 - accuracy: 0.8200 - mae: 0.7500\n",
            "Found 50 images belonging to 1 classes.\n",
            "2/2 [==============================] - 0s 23ms/step - loss: 0.0000e+00 - accuracy: 1.0000 - mae: 0.0000e+00\n",
            "2/2 [==============================] - 0s 25ms/step - loss: 58.4363 - accuracy: 0.8200 - mae: 0.7500\n",
            "Found 50 images belonging to 1 classes.\n",
            "2/2 [==============================] - 0s 17ms/step - loss: 0.0000e+00 - accuracy: 1.0000 - mae: 0.0000e+00\n",
            "2/2 [==============================] - 0s 23ms/step - loss: 58.8302 - accuracy: 0.9000 - mae: 0.7500\n",
            "Found 13 images belonging to 1 classes.\n",
            "1/1 [==============================] - 0s 59ms/step - loss: 0.0000e+00 - accuracy: 1.0000 - mae: 0.0000e+00\n",
            "1/1 [==============================] - 0s 58ms/step - loss: 65.7865 - accuracy: 0.8462 - mae: 0.7500\n",
            "Found 21 images belonging to 1 classes.\n",
            "1/1 [==============================] - 0s 82ms/step - loss: 0.0000e+00 - accuracy: 1.0000 - mae: 0.0000e+00\n",
            "1/1 [==============================] - 0s 72ms/step - loss: 33.5796 - accuracy: 0.6190 - mae: 0.7500\n",
            "Found 21 images belonging to 1 classes.\n",
            "1/1 [==============================] - 0s 80ms/step - loss: 0.0000e+00 - accuracy: 1.0000 - mae: 0.0000e+00\n",
            "1/1 [==============================] - 0s 80ms/step - loss: 30.5182 - accuracy: 0.5714 - mae: 0.7500\n",
            "Found 21 images belonging to 1 classes.\n",
            "1/1 [==============================] - 0s 78ms/step - loss: 0.0000e+00 - accuracy: 1.0000 - mae: 0.0000e+00\n",
            "1/1 [==============================] - 0s 77ms/step - loss: 48.5821 - accuracy: 0.4762 - mae: 0.7500\n",
            "Found 5 images belonging to 1 classes.\n",
            "1/1 [==============================] - 0s 46ms/step - loss: 0.0000e+00 - accuracy: 1.0000 - mae: 0.0000e+00\n",
            "1/1 [==============================] - 0s 46ms/step - loss: 47.6985 - accuracy: 0.8000 - mae: 0.7500\n",
            "Found 21 images belonging to 1 classes.\n",
            "1/1 [==============================] - 0s 79ms/step - loss: 0.0000e+00 - accuracy: 1.0000 - mae: 0.0000e+00\n",
            "1/1 [==============================] - 0s 73ms/step - loss: 36.5833 - accuracy: 0.3810 - mae: 0.7500\n",
            "Found 16 images belonging to 1 classes.\n",
            "1/1 [==============================] - 0s 68ms/step - loss: 0.0000e+00 - accuracy: 1.0000 - mae: 0.0000e+00\n",
            "1/1 [==============================] - 0s 63ms/step - loss: 41.8343 - accuracy: 0.3750 - mae: 0.7500\n",
            "Found 7 images belonging to 1 classes.\n",
            "1/1 [==============================] - 0s 51ms/step - loss: 0.0000e+00 - accuracy: 1.0000 - mae: 0.0000e+00\n",
            "1/1 [==============================] - 0s 48ms/step - loss: 35.3738 - accuracy: 0.0000e+00 - mae: 0.7500\n"
          ]
        }
      ]
    },
    {
      "cell_type": "code",
      "source": [
        "datagen2 = ImageDataGenerator()\n",
        "path2 = '/content/drive/My Drive/mldata/test'\n",
        "\n",
        "testData2 = datagen2.flow_from_directory(path2, shuffle=False, class_mode=\"categorical\", target_size=(224, 224), \n",
        "                                                    color_mode = 'grayscale')\n",
        "print(\"CNN\")\n",
        "model.evaluate(testData2)\n",
        "print(\"Unet\")\n",
        "ac.model.evaluate(testData2)\n"
      ],
      "metadata": {
        "colab": {
          "base_uri": "https://localhost:8080/"
        },
        "id": "vvhORYYmk7Xh",
        "outputId": "d098b3f4-db0f-4c56-e336-e5542d09a19c"
      },
      "execution_count": null,
      "outputs": [
        {
          "output_type": "stream",
          "name": "stdout",
          "text": [
            "Found 273 images belonging to 4 classes.\n",
            "CNN\n",
            "9/9 [==============================] - 0s 41ms/step - loss: 0.7500 - accuracy: 0.2500 - mae: 0.7500\n",
            "Unet\n",
            "9/9 [==============================] - 0s 44ms/step - loss: 3.8110 - accuracy: 0.6154 - mae: 0.1953\n"
          ]
        },
        {
          "output_type": "execute_result",
          "data": {
            "text/plain": [
              "[3.811037063598633, 0.6153846383094788, 0.1953071653842926]"
            ]
          },
          "metadata": {},
          "execution_count": 150
        }
      ]
    },
    {
      "cell_type": "code",
      "source": [
        "for i in resultsCnn:\n",
        "  print(i)"
      ],
      "metadata": {
        "colab": {
          "base_uri": "https://localhost:8080/"
        },
        "id": "4-RhbnTomCeu",
        "outputId": "5bdf4c31-119f-4a73-b435-77d4b4f1b5b8"
      },
      "execution_count": null,
      "outputs": [
        {
          "output_type": "stream",
          "name": "stdout",
          "text": [
            "[0.0, 1.0, 0.0]\n",
            "[0.0, 1.0, 0.0]\n",
            "[0.0, 1.0, 0.0]\n",
            "[0.0, 1.0, 0.0]\n",
            "[0.0, 1.0, 0.0]\n",
            "[0.0, 1.0, 0.0]\n",
            "[0.0, 1.0, 0.0]\n",
            "[0.0, 1.0, 0.0]\n",
            "[0.0, 1.0, 0.0]\n",
            "[0.0, 1.0, 0.0]\n",
            "[0.0, 1.0, 0.0]\n"
          ]
        }
      ]
    },
    {
      "cell_type": "code",
      "source": [
        "for i in resultsUnet:\n",
        "  print(i)"
      ],
      "metadata": {
        "colab": {
          "base_uri": "https://localhost:8080/"
        },
        "id": "1bm88rYUmJhw",
        "outputId": "e82b5c7d-e215-4b8f-a6ab-d6be3150693c"
      },
      "execution_count": null,
      "outputs": [
        {
          "output_type": "stream",
          "name": "stdout",
          "text": [
            "[36.91189956665039, 0.8199999928474426, 0.75]\n",
            "[58.4362907409668, 0.8199999928474426, 0.75]\n",
            "[58.83015441894531, 0.8999999761581421, 0.75]\n",
            "[65.78648376464844, 0.8461538553237915, 0.75]\n",
            "[33.579559326171875, 0.6190476417541504, 0.75]\n",
            "[30.518203735351562, 0.5714285969734192, 0.75]\n",
            "[48.582061767578125, 0.4761904776096344, 0.75]\n",
            "[47.69849395751953, 0.800000011920929, 0.75]\n",
            "[36.58333969116211, 0.380952388048172, 0.75]\n",
            "[41.83425521850586, 0.375, 0.75]\n",
            "[35.37382507324219, 0.0, 0.75]\n"
          ]
        }
      ]
    },
    {
      "cell_type": "code",
      "source": [],
      "metadata": {
        "id": "OtMIeuYmoQtM"
      },
      "execution_count": null,
      "outputs": []
    }
  ]
}