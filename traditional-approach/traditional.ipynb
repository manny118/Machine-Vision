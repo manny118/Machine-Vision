{
  "cells": [
    {
      "cell_type": "markdown",
      "source": [
        "# Imports"
      ],
      "metadata": {
        "id": "mubnBSozXlvX"
      }
    },
    {
      "cell_type": "code",
      "source": [
        "import numpy as np\n",
        "import json\n",
        "import os, random, shutil\n",
        "from sklearn.metrics import mean_absolute_error,mean_absolute_percentage_error\n",
        "import cv2\n",
        "from google.colab import drive\n",
        "import matplotlib.pyplot as plt\n",
        "from skimage.color import rgb2gray\n",
        "from skimage import data\n",
        "from skimage.filters import gaussian\n",
        "import cv2\n",
        "import time\n",
        "from skimage.morphology import disk\n",
        "import statistics\n",
        "from google.colab.patches import cv2_imshow\n",
        "from PIL import Image  \n",
        "from IPython.display import display # to display images\n",
        "import matplotlib.image as mpimg\n",
        "from IPython.display import display\n",
        "from skimage.measure import label, regionprops, regionprops_table\n",
        "from skimage import data, exposure\n",
        "from skimage.color import rgb2gray\n",
        "import skimage.data as data\n",
        "import skimage.segmentation as seg\n",
        "import skimage.filters as filters\n",
        "import skimage.draw as draw\n",
        "import skimage.color as color\n",
        "from skimage.color import rgb2hsv # image processing algorithms\n",
        "import matplotlib.pyplot as plt\n",
        "import math\n",
        "from skimage import data, img_as_float\n",
        "from skimage.segmentation import chan_vese\n",
        "import sys\n",
        "from skimage.filters import threshold_otsu, threshold_local,median\n",
        "from skimage import data, img_as_float, morphology\n",
        "from skimage.segmentation import (morphological_chan_vese,\n",
        "                                  morphological_geodesic_active_contour,\n",
        "                                  inverse_gaussian_gradient,\n",
        "                                  checkerboard_level_set)\n",
        "np.set_printoptions(threshold=sys.maxsize)\n",
        "import skimage.io as sk\n",
        "from contextlib import suppress\n",
        "import os, random, shutil\n",
        "from skimage import filters\n",
        "import imageio as iio\n",
        "from skimage.filters import threshold_otsu, threshold_local\n",
        "from skimage.filters import threshold_minimum\n",
        "from skimage.filters import threshold_multiotsu\n",
        "import numpy as np\n",
        "from skimage.morphology import watershed\n",
        "from skimage.feature import peak_local_max\n",
        "from skimage import measure\n",
        "from skimage.segmentation import random_walker\n",
        "import matplotlib.pyplot as plt\n",
        "from scipy import ndimage\n",
        "\n",
        "import numpy as np\n",
        "import matplotlib.pyplot as plt\n",
        "from scipy import ndimage as ndi\n",
        "\n",
        "from skimage.segmentation import watershed\n",
        "from skimage.feature import peak_local_max\n",
        "import time\n",
        "\n",
        "from skimage import exposure\n",
        "\n",
        "from sklearn import metrics"
      ],
      "metadata": {
        "id": "SV7DTkkxyCuK"
      },
      "execution_count": null,
      "outputs": []
    },
    {
      "cell_type": "markdown",
      "source": [
        "# Plots"
      ],
      "metadata": {
        "id": "KeBwXCBDqDdE"
      }
    },
    {
      "cell_type": "code",
      "source": [
        "\n",
        "def histograms(greyimage,imgoriginal):\n",
        "\n",
        "  fig, ax = plt.subplots(2, 2, figsize=(9, 9))\n",
        "  ax[0, 0].set_title('Grey-scaled', fontsize=12)\n",
        "  ax[0,0].imshow(greyimage, cmap=plt.cm.gray)\n",
        "  ax[1, 0].set_title('Grey-scaled Histogram', fontsize=12)\n",
        "  ax[1, 0].set_xlabel('Grey value - Normalised',fontsize=12)\n",
        "  ax[1, 0].set_ylabel('Frequency', fontsize=12)\n",
        "  ax[1,0].hist(greyimage.ravel(), bins=100)\n",
        "  ax[1,0].set_xlim(left=0, right=1)\n",
        "  ax[0, 0].axis('off')\n",
        "  ax[1,0].set_xlim(left=0, right=1)\n",
        "  ax[0,1].imshow(imgoriginal, cmap=plt.cm.gray)\n",
        "  ax[0, 1].axis('off')\n",
        "  ax[1,1].hist(imgoriginal.ravel(), bins=100)\n",
        "  ax[1,1].set_xlim(left=0, right=1)\n",
        "  ax[1, 1].set_xlabel('H value - Normalised',fontsize=12)\n",
        "  ax[1, 1].set_ylabel('Frequency',fontsize=12)\n",
        "  ax[0, 1].set_title('HSV Image - Hue value',fontsize=12)\n",
        "  ax[1, 1].set_title('Hue value histogram',fontsize=12)\n",
        "\n",
        "\n",
        "def binary_clearup(image,binary_global,mask1):\n",
        "  \n",
        "  fig2, ax2 = plt.subplots(1, 4, figsize=(20, 7))\n",
        "  ax2[0].imshow(image)\n",
        "  ax2[0].set_title('Original Image')\n",
        "  ax2[0].axis('off')\n",
        "  ax2[1].imshow(binary_global, cmap=plt.cm.gray)\n",
        "  ax2[1].set_title('Resulting Binary Image')\n",
        "  ax2[1].axis('off')\n",
        "  ax2[2].imshow(mask1, cmap=plt.cm.gray)\n",
        "  ax2[2].set_title('Holes and Small Objects removed')\n",
        "  ax2[2].axis('off')\n",
        "\n",
        "def thresholds(imgoriginal,imgmedian,global_thresh):\n",
        "\n",
        "  fig3, ax3 = plt.subplots(2, 2, figsize=(14, 7))\n",
        "  ax3[0, 0].set_title('HSV Image - H')\n",
        "  ax3[0, 0].imshow(imgoriginal, cmap=plt.cm.gray)\n",
        "  ax3[1,0].hist(imgoriginal.ravel(), bins=100)\n",
        "  ax3[1, 0].set_title('H value Histogram')\n",
        "  ax3[1,0].set_xlim(left=0, right=1)\n",
        "  ax3[0, 0].axis('off')\n",
        "  ax3[0, 1].set_title('Median Filter')\n",
        "  ax3[0,1].imshow(imgmedian, cmap=plt.cm.gray)\n",
        "  ax3[0, 1].axis('off')\n",
        "  ax3[1,1].set_xlim(left=0, right=1)\n",
        "  ax3[1, 1].set_title('Median Filter Histogram')\n",
        "  ax3[1,1].hist(imgmedian.ravel(), bins=100)\n",
        "  ax3[1, 1].axvline(0.04, linewidth=1, color='r',)\n",
        "  ax3[1, 1].axvline(0.9, color='r',linewidth=1,)\n",
        "  ax3[1,1].set_xlim(left=0, right=1)\n",
        "  if global_thresh != 0:\n",
        "    ax3[1, 1].axvline(global_thresh, linewidth=1,color='g')\n",
        "    ax3[1,1].set_xlim(left=0.1, right=0.4)\n",
        "  \n",
        "\n",
        "def watershedseg(image,mask1,labels_ws,path):\n",
        "\n",
        "  plt.figure(figsize=(12, 6))\n",
        "  plt.subplot(141)\n",
        "  plt.imshow(image)\n",
        "  plt.title('Original Image')\n",
        "  plt.axis('off')\n",
        "  plt.subplot(142)\n",
        "  plt.imshow(mask1, cmap=plt.cm.gray)\n",
        "  plt.title('Input Image')\n",
        "  plt.axis('off')\n",
        "  plt.subplot(143)\n",
        "  plt.imshow(labels_ws, cmap='nipy_spectral', interpolation='nearest')\n",
        "  plt.title('Watershed Segmentation')\n",
        "  plt.tight_layout()\n",
        "  plt.axis('off')\n",
        "  plt.show()\n",
        "  print(path)"
      ],
      "metadata": {
        "id": "91jlqWY8qJEb"
      },
      "execution_count": null,
      "outputs": []
    },
    {
      "cell_type": "markdown",
      "source": [
        "# Instructions - All Data \n"
      ],
      "metadata": {
        "id": "2ONwvFyPrCdw"
      }
    },
    {
      "cell_type": "markdown",
      "source": [
        "1. Upload the dataset to google drive\n",
        "2. Upload the ground truth file into your workspace\n",
        "3. Run the imports section\n",
        "4. Run  the extraction section, you may need to adjust the location of the zip file\n",
        "5. Run the 'Imports', 'Plots', 'Ground Truth' & 'Thresholding' sections to initiate the functions\n",
        "5. Run the 'Run script' section, this will calculate the error for apples counting for detecting 1,2,3 or 4 apples\n",
        "6. If you wish to focus on a particular folder (Number of apples), edit the values of i\n",
        "6. Plots can be added or removed from the threshold_count function, comment these in/out\n"
      ],
      "metadata": {
        "id": "6AHMmK6VTjIj"
      }
    },
    {
      "cell_type": "markdown",
      "source": [
        "# Extraction - All Data"
      ],
      "metadata": {
        "id": "iwYNxHzrVH3D"
      }
    },
    {
      "cell_type": "code",
      "source": [
        "drive.mount('/content/drive')\n",
        "!unzip drive/MyDrive/mldata.zip"
      ],
      "metadata": {
        "id": "D2BSIwhfVZVQ"
      },
      "execution_count": null,
      "outputs": []
    },
    {
      "cell_type": "markdown",
      "source": [
        "# Ground Truth - All Data\n",
        "\n"
      ],
      "metadata": {
        "id": "_KrdjNI0T9cV"
      }
    },
    {
      "cell_type": "code",
      "source": [
        "def ground_truth(applenumber,pathlocation):\n",
        "  images=[]\n",
        "  actualapples=[]\n",
        "  path='mldata/test/'+str(applenumber) \n",
        "# reading the data from the file\n",
        "  with open(pathlocation) as f:\n",
        "    data = f.read()\n",
        "\n",
        "  js = json.loads(data)\n",
        "  images=os.listdir(path)\n",
        "  count=len(images)\n",
        "  for i in range(count):\n",
        "#correction for 3 apple folder\n",
        "    if path=='mldata/test/3':\n",
        "      for j in range(count-1):\n",
        "        if images[j] == '.ipynb_checkpoints':\n",
        "          images.remove(images[j])\n",
        "          count=len(images)\n",
        "          for k in range(count):\n",
        "            actualapples.append(js.get(images[k]))\n",
        "    else:\n",
        "      actualapples.append(js.get(images[i]))\n",
        "\n",
        "\n",
        "  return actualapples,images,path,count"
      ],
      "metadata": {
        "id": "w_zAC6XUUR7i"
      },
      "execution_count": null,
      "outputs": []
    },
    {
      "cell_type": "markdown",
      "source": [
        "# Thresholding - All Data"
      ],
      "metadata": {
        "id": "SMa1xfgMVoO9"
      }
    },
    {
      "cell_type": "code",
      "source": [
        "def threshold_count(actualapples,images,path):\n",
        "  dir='/content/'+path+'/'\n",
        "  error=[]\n",
        "  detectedapples=[]\n",
        "  for i in range(0,len(images)):\n",
        "    image_path=images[i]\n",
        "    image = iio.imread(dir+image_path)\n",
        "    hsvimage=color.rgb2hsv(image)\n",
        "    greyimage=color.rgb2gray(image)\n",
        "    imgoriginal=hsvimage[:,:,0]\n",
        "    imgmedian=filters.median(imgoriginal)\n",
        "\n",
        "    width=len(image[0])\n",
        "    height=len(image[1])\n",
        "    areaimage=width*height\n",
        "\n",
        "  #boundaries for red apples\n",
        "    binary_global = imgmedian > 0.9\n",
        "    binary_global2 = imgmedian < 0.04\n",
        "    binary_global= np.logical_or(binary_global, binary_global2)\n",
        "    sum2=binary_global.sum()\n",
        "    percentage=sum2/areaimage\n",
        "    global_thresh=0\n",
        "  #if low amount of red in image, look for green using otsu threhsold\n",
        "    if percentage < 0.05:\n",
        "  #boundaries for greenapples\n",
        "      global_thresh = threshold_otsu(imgmedian)\n",
        "      binary_global=(imgmedian<global_thresh)\n",
        "      binary_global2=imgmedian>0.35\n",
        "      binary_global= np.logical_or(binary_global, binary_global2)\n",
        "\n",
        "  #open and close the image to remove objects inside and around the masked area\n",
        "    mask = morphology.remove_small_holes(binary_global,areaimage/100) \n",
        "    mask1=morphology.remove_small_objects(mask,areaimage/100)\n",
        "\n",
        "# Now we want to separate the two objects in image\n",
        "# Generate the markers as local maxima of the distance\n",
        "# to the background\n",
        "    distance = ndimage.distance_transform_edt(mask1)\n",
        "    local_maxi = peak_local_max(\n",
        "    distance, indices=False, labels=mask1, min_distance=12)\n",
        "    markers = measure.label(local_maxi)\n",
        "    labels_ws = watershed(-distance, markers, mask=mask1)\n",
        "  #count number of different regions to find number of apples\n",
        "  \n",
        "    detectedapples.append(len(np.unique(labels_ws))-1)\n",
        "\n",
        "    #optional plots, comment in or out to visualise results\n",
        "    #histograms, shows global the thresholds created on the histogram\n",
        "    #thresholds, displays created thresholds for red and green apples\n",
        "    #binary_clearup, shows results from thresholding and the result of removing small objects/holes\n",
        "    #watershedseg, shows results from watershed segmentation\n",
        "  \n",
        "\n",
        "    #histograms(greyimage,imgoriginal)\n",
        "    #thresholds(imgoriginal,imgmedian,global_thresh)  \n",
        "    #binary_clearup(image,binary_global,mask1)\n",
        "    #watershedseg(image,mask1,labels_ws,path)\n",
        "    \n",
        "  abs_error_percentage=mean_absolute_percentage_error(actualapples, detectedapples)*100\n",
        "  accuracy=100-abs_error_percentage\n",
        "\n",
        "  print ('Absolute error as a percentage: ' + str(abs_error_percentage) + '%')\n",
        "  print ('Accuracy: ' + str(accuracy) + ' %')\n",
        "\n",
        "\n",
        "  return accuracy,abs_error_percentage"
      ],
      "metadata": {
        "id": "UCN1-1RFWagE"
      },
      "execution_count": null,
      "outputs": []
    },
    {
      "cell_type": "markdown",
      "source": [
        "#Run Script - All Data"
      ],
      "metadata": {
        "id": "XA8lVexWWkBW"
      }
    },
    {
      "cell_type": "code",
      "source": [
        "#Here, the extraction and thresholding functions can be run\n",
        "#Comment in the plotting functions within the thresholding function to visualise the results\n",
        "\n",
        "for i in range (1,5):\n",
        "  t0=time.time()\n",
        "  print('Number of apples to predict: ' + str(i))\n",
        "  actualapples,images,path,count=ground_truth(i,'/content/drive/MyDrive/ground_truth.json')\n",
        "  accuracy,error=threshold_count(actualapples,images,path)\n",
        "  t1=time.time()\n",
        "  print('Time to execute: ' +str(t1-t0) + 's\\n')"
      ],
      "metadata": {
        "id": "ulC4vXTfWpwL"
      },
      "execution_count": null,
      "outputs": []
    },
    {
      "cell_type": "markdown",
      "source": [
        "# Instructions -  Sorting Technique"
      ],
      "metadata": {
        "id": "JkekwiQYS4Tp"
      }
    },
    {
      "cell_type": "markdown",
      "source": [
        "1. Upload the dataset to google drive\n",
        "2. Upload the ground truth file into your workspace. Split the main ground truth based on the predicted number of apples and create subgroups for testing the performance of the proposed algorithm\n",
        "3. Run the imports section\n",
        "4. Run  the extraction section, you may need to adjust the location of the zip file\n",
        "5. Run the 'Plots' and 'Thresholding' sections to initiate the functions\n",
        "5. Run the 'Run script' section, this will calculate the error for apples counting for detecting 1,2,3 or 4 apples\n",
        "6. If you wish to focus on a particular folder (Number of apples), uncomment the \"experimentResults\" line with the desired number of apples\n",
        "6. Plots can be added or removed from the \"countingTradSegmentation\" function, comment these in/out\n"
      ],
      "metadata": {
        "id": "bIE1pPLwrHYl"
      }
    },
    {
      "cell_type": "markdown",
      "metadata": {
        "id": "OK3LFD-NoJST"
      },
      "source": [
        "# Extraction -  Sorting"
      ]
    },
    {
      "cell_type": "code",
      "execution_count": null,
      "metadata": {
        "colab": {
          "base_uri": "https://localhost:8080/"
        },
        "id": "k5uYuJo6oMU_",
        "outputId": "6950c640-dd65-4d85-9083-cf40a5051eae"
      },
      "outputs": [
        {
          "output_type": "stream",
          "name": "stdout",
          "text": [
            "Drive already mounted at /content/drive; to attempt to forcibly remount, call drive.mount(\"/content/drive\", force_remount=True).\n"
          ]
        }
      ],
      "source": [
        "# Load Google Drive data\n",
        "drive.mount('/content/drive')"
      ]
    },
    {
      "cell_type": "markdown",
      "source": [
        "# Ground Truth -  Sorting"
      ],
      "metadata": {
        "id": "bBsLPmLAw9HX"
      }
    },
    {
      "cell_type": "code",
      "source": [
        "# Get directory for both json and images. Make sure that all images are located\n",
        "# in 1 folder\n",
        "jsonfile = \"/content/drive/MyDrive/Machine Vision/mldata/mldata/test/ground_truth.json\"\n",
        "fileDirGen = \"/content/drive/MyDrive/Machine Vision/test_data/test_data/counting/images\"\n",
        "fileDir1 = \"/content/drive/MyDrive/Machine Vision/mldata/mldata/test/1\"\n",
        "fileDir2 = \"/content/drive/MyDrive/Machine Vision/mldata/mldata/test/2\"\n",
        "fileDir3 = \"/content/drive/MyDrive/Machine Vision/mldata/mldata/test/3\"\n",
        "fileDir4 = \"/content/drive/MyDrive/Machine Vision/mldata/mldata/test/4\"\n",
        "\n",
        "# Extracting data from ground_truth data\n",
        "with open(jsonfile) as jf:\n",
        "  data = jf.read()\n",
        "\n",
        "# Load JSON file and get file from directory\n",
        "ground_truth = json.loads(data)\n",
        "images_data1 = os.listdir(fileDir1)\n",
        "images_data2 = os.listdir(fileDir2)\n",
        "images_data3 = os.listdir(fileDir3)\n",
        "images_data4 = os.listdir(fileDir4)\n",
        "\n",
        "# Create variables with number of images \n",
        "numberapple_1 = \"1\" \n",
        "numberapple_2 = \"2\"\n",
        "numberapple_3 = \"3\"\n",
        "numberapple_4 = \"4\"\n",
        "\n",
        "def sortingGroundTruth(images, ground_truth, numberApples):\n",
        "  # This function create sorted ground truth based on the number of apples\n",
        "  # Inputs:\n",
        "  # - images: image folder path \n",
        "  # - ground_truth: JSON file with predicted number of apples\n",
        "  # - numberApples: number of apples per images\n",
        "  # Output:\n",
        "  # - gTruthSorted: dictionary with sorted ground truth based on the number of \n",
        "  # apples \n",
        "  gTruthSorted = {}\n",
        "  for i in range(len(images)):\n",
        "    # Check if the image is located in the ground truth\n",
        "    if images[i] in ground_truth.keys():\n",
        "      # Filter the json file based on its value and save in new dictionary\n",
        "      if ground_truth[images[i]] == numberApples:\n",
        "        gTruthSorted[images[i]] = ground_truth[images[i]]\n",
        "\n",
        "  return gTruthSorted\n",
        "\n",
        "# Creating testing groups for experimentation\n",
        "\n",
        "# Maximum number of groups desired\n",
        "group_desired = 21\n",
        "\n",
        "def testSorting(appleDict, nGroups):\n",
        "  # This function aims at create groups of images\n",
        "  # Inputs: \n",
        "  # - appleDict: dictionary with images and actual or predicted values\n",
        "  # - nGroups: number of desired groups\n",
        "  test_array_temp = [] \n",
        "  test_array = []\n",
        "  for i in range(0,nGroups):\n",
        "    # If there are more than 200 images in the directory, create groups of 100 images each\n",
        "    if len(appleDict) >= 200:\n",
        "      if i == 0:\n",
        "        test_array_temp.append(dict(list(appleDict.items())[i:5*(nGroups-1)]))\n",
        "      elif i < nGroups:\n",
        "        test_array_temp.append(dict(list(appleDict.items())[(i*5*(nGroups-1)):(i*5*(nGroups-1))+(5*(nGroups-1))]))\n",
        "      else:\n",
        "        test_array_temp.append(dict(list(appleDict.items())[(i*5*(nGroups-1)):len(appleDict)]))\n",
        "    # If there are between 100 and 200 images in the directory, create groups of 50 images each\n",
        "    elif len(appleDict) >= 100 and len(appleDict) < 200:\n",
        "      if i == 0:\n",
        "        test_array_temp.append(dict(list(appleDict.items())[i:2*(nGroups+4)]))\n",
        "      elif i < nGroups:\n",
        "        test_array_temp.append(dict(list(appleDict.items())[(i*2*(nGroups+4)):(i*2*(nGroups+4))+(2*(nGroups+4))]))\n",
        "      else:\n",
        "        test_array_temp.append(dict(list(appleDict.items())[(i*2*(nGroups+4)):len(appleDict)]))\n",
        "    # If there are less than 30 images in the directory, create groups of 20 images each\n",
        "    else:\n",
        "      if i == 0:\n",
        "        test_array_temp.append(dict(list(appleDict.items())[i:nGroups]))\n",
        "      elif i < nGroups:\n",
        "        test_array_temp.append(dict(list(appleDict.items())[((i*nGroups)):(i*nGroups)+(nGroups)]))\n",
        "      else:\n",
        "        test_array_temp.append(dict(list(appleDict.items())[((i*nGroups)):len(appleDict)]))\n",
        "\n",
        "  # Eliminate any empty dictionary in the array\n",
        "  for i in test_array_temp:\n",
        "    if i != {}:\n",
        "      test_array.append(i)\n",
        "  \n",
        "  if len(test_array) == len(test_array_temp):\n",
        "    return test_array_temp\n",
        "  else:\n",
        "    return test_array"
      ],
      "metadata": {
        "id": "dOhTZwuE2sTr"
      },
      "execution_count": null,
      "outputs": []
    },
    {
      "cell_type": "markdown",
      "metadata": {
        "id": "zWMdy353woa5"
      },
      "source": [
        "# Thresholding and Results -  Sorting"
      ]
    },
    {
      "cell_type": "code",
      "source": [
        "def countingTradSegmentation(fileDir, imageDataSet, groundTruthApple):\n",
        "  # This function performs approach A, i.e. traditional methods\n",
        "  # Inputs: \n",
        "  # - fileDir: directory where images are located\n",
        "  # - imagesDataSet: image data set\n",
        "  # - groundTruthApple: ground truth with the predicted number of apples\n",
        "  # Output:\n",
        "  # - detectedapples: Dictionary with key being the filename and value being the\n",
        "  # number of detected apples in the image\n",
        "  # - execute_time: executed time for performing approach A on each group\n",
        "  detectedapples = {}\n",
        "  t0 = time.time()\n",
        "  for i in imageDataSet:\n",
        "    if i in groundTruthApple:\n",
        "      # Read image from input file \n",
        "      readImage = iio.imread(fileDir + \"/\" + i)\n",
        "\n",
        "      # Image processing to improve the quality of the image before running \n",
        "      # the watershed algorithm\n",
        "      hsvimage=color.rgb2hsv(readImage)\n",
        "      greyimage=color.rgb2gray(readImage)\n",
        "      imgoriginal=hsvimage[:,:,0]\n",
        "      imgmedian=filters.median(imgoriginal)\n",
        "\n",
        "      width=len(readImage[0])\n",
        "      height=len(readImage[1])\n",
        "      areaimage=width*height\n",
        "\n",
        "      # Boundaries for red apples\n",
        "      binary_global = imgmedian > 0.9\n",
        "      binary_global2 = imgmedian < 0.04\n",
        "      binary_global= np.logical_or(binary_global, binary_global2)\n",
        "      sum2=binary_global.sum()\n",
        "      percentage=sum2/areaimage\n",
        "      global_thresh=0\n",
        "    #if low amount of red in image, look for green using otsu threhsold\n",
        "      if percentage < 0.05:\n",
        "      #boundaries for greenapples\n",
        "        global_thresh = threshold_otsu(imgmedian)\n",
        "        binary_global=(imgmedian<global_thresh)\n",
        "        binary_global2=imgmedian>0.35\n",
        "        binary_global= np.logical_or(binary_global, binary_global2)\n",
        "\n",
        "      # Open and close the image to remove objects inside and around the masked area\n",
        "      mask = morphology.remove_small_holes(binary_global,areaimage/100) \n",
        "      mask1=morphology.remove_small_objects(mask,areaimage/100)\n",
        "\n",
        "      # Now we want to separate the two objects in image\n",
        "      # Generate the markers as local maxima of the distance\n",
        "      # to the background\n",
        "      distance = ndimage.distance_transform_edt(mask1)\n",
        "      local_maxi = peak_local_max(\n",
        "      distance, indices=False, labels=mask1, min_distance=12)\n",
        "      markers = measure.label(local_maxi)\n",
        "      labels_ws = watershed(-distance, markers, mask=mask1)\n",
        "    \n",
        "      #count number of different regions to find number of apples\n",
        "      detectedapples[i] = len(np.unique(labels_ws))-1\n",
        "\n",
        "      #optional plots, comment in or out to visualise results\n",
        "      #histograms, shows global the thresholds created on the histogram\n",
        "      #thresholds, displays created thresholds for red and green apples\n",
        "      #binary_clearup, shows results from thresholding and the result of removing small objects/holes\n",
        "      #watershedseg, shows results from watershed segmentation\n",
        "    \n",
        "      #histograms(greyimage,imgoriginal)\n",
        "      #thresholds(imgoriginal,imgmedian,global_thresh)  \n",
        "      #binary_clearup(readImage,binary_global,mask1)\n",
        "      #watershedseg(readImage,mask1,labels_ws,fileDir)\n",
        "\n",
        "    t1 = time.time()\n",
        "  \n",
        "    executed_time = round(t1-t0,3)\n",
        "\n",
        "  return detectedapples, executed_time\n",
        "\n",
        "\n",
        "def resultsArray(fileDir, appleDict, groundTruth):\n",
        "  # This function allows to store dictionaries with their key being a filename\n",
        "  # and value being the number of detected apple in the image in an array\n",
        "  # Inputs: \n",
        "  # - fileDir: directory where images are located\n",
        "  # - appleDict: Dictionary with key being the filename and value being the\n",
        "  # number of detected apples in the image\n",
        "  # - groundTruthApple: ground truth with the predicted number of apples\n",
        "  # Output:\n",
        "  # - detectedapples_array: array with its items being appleDict\n",
        "  detectedapple_array = []\n",
        "  for i in range(0,len(appleDict)):\n",
        "    detectedapple_array.append(countingTradSegmentation(fileDir, list(appleDict[i].keys()),groundTruth))\n",
        "  \n",
        "  return detectedapple_array"
      ],
      "metadata": {
        "id": "xpPecsb97nh9"
      },
      "execution_count": null,
      "outputs": []
    },
    {
      "cell_type": "code",
      "source": [
        "'''\n",
        "def threshold_count(actualapples,images,path):\n",
        "  dir='/content/'+path+'/'\n",
        "  error=[]\n",
        "  detectedapples=[]\n",
        "  for i in range(0,len(images)):\n",
        "    image_path=images[i]\n",
        "    image = iio.imread(dir+image_path)\n",
        "    hsvimage=color.rgb2hsv(image)\n",
        "    greyimage=color.rgb2gray(image)\n",
        "    imgoriginal=hsvimage[:,:,0]\n",
        "    imgmedian=filters.median(imgoriginal)\n",
        "\n",
        "    width=len(image[0])\n",
        "    height=len(image[1])\n",
        "    areaimage=width*height\n",
        "\n",
        "  #boundaries for red apples\n",
        "    binary_global = imgmedian > 0.9\n",
        "    binary_global2 = imgmedian < 0.04\n",
        "    binary_global= np.logical_or(binary_global, binary_global2)\n",
        "    sum2=binary_global.sum()\n",
        "    percentage=sum2/areaimage\n",
        "    global_thresh=0\n",
        "  #if low amount of red in image, look for green using otsu threhsold\n",
        "    if percentage < 0.05:\n",
        "  #boundaries for greenapples\n",
        "      global_thresh = threshold_otsu(imgmedian)\n",
        "      binary_global=(imgmedian<global_thresh)\n",
        "      binary_global2=imgmedian>0.35\n",
        "      binary_global= np.logical_or(binary_global, binary_global2)\n",
        "\n",
        "  #open and close the image to remove objects inside and around the masked area\n",
        "    mask = morphology.remove_small_holes(binary_global,areaimage/100) \n",
        "    mask1=morphology.remove_small_objects(mask,areaimage/100)\n",
        "\n",
        "# Now we want to separate the two objects in image\n",
        "# Generate the markers as local maxima of the distance\n",
        "# to the background\n",
        "    distance = ndimage.distance_transform_edt(mask1)\n",
        "    local_maxi = peak_local_max(\n",
        "    distance, indices=False, labels=mask1, min_distance=10)\n",
        "    markers = measure.label(local_maxi)\n",
        "    labels_ws = watershed(-distance, markers, mask=mask1)\n",
        "  #count number of different regions to find number of apples\n",
        "  \n",
        "    detectedapples.append(len(np.unique(labels_ws))-1)\n",
        "\n",
        "    #optional plots, comment in or out to visualise results\n",
        "    #histograms, shows global the thresholds created on the histogram\n",
        "    #thresholds, displays created thresholds for red and green apples\n",
        "    #binary_clearup, shows results from thresholding and the result of removing small objects/holes\n",
        "    #watershedseg, shows results from watershed segmentation\n",
        "  \n",
        "\n",
        "    #histograms(greyimage,imgoriginal)\n",
        "    #thresholds(imgoriginal,imgmedian,global_thresh)  \n",
        "    #binary_clearup(image,binary_global,mask1)\n",
        "    #watershedseg(image,mask1,labels_ws,path)\n",
        "    \n",
        "  abs_error_percentage=mean_absolute_percentage_error(actualapples, detectedapples)*100\n",
        "  accuracy=100-abs_error_percentage\n",
        "\n",
        "  print ('Absolute error as a percentage: ' + str(abs_error_percentage) + '%')\n",
        "  print ('Accuracy: ' + str(accuracy) + ' %')\n",
        "\n",
        "\n",
        "  return accuracy,abs_error_percentage\n",
        "  '''"
      ],
      "metadata": {
        "id": "xHacMEBjwre1",
        "colab": {
          "base_uri": "https://localhost:8080/",
          "height": 139
        },
        "outputId": "a84d7c07-cfb8-49df-f1a6-4cee21b6ae39"
      },
      "execution_count": null,
      "outputs": [
        {
          "output_type": "execute_result",
          "data": {
            "text/plain": [
              "\"\\ndef threshold_count(actualapples,images,path):\\n  dir='/content/'+path+'/'\\n  error=[]\\n  detectedapples=[]\\n  for i in range(0,len(images)):\\n    image_path=images[i]\\n    image = iio.imread(dir+image_path)\\n    hsvimage=color.rgb2hsv(image)\\n    greyimage=color.rgb2gray(image)\\n    imgoriginal=hsvimage[:,:,0]\\n    imgmedian=filters.median(imgoriginal)\\n\\n    width=len(image[0])\\n    height=len(image[1])\\n    areaimage=width*height\\n\\n  #boundaries for red apples\\n    binary_global = imgmedian > 0.9\\n    binary_global2 = imgmedian < 0.04\\n    binary_global= np.logical_or(binary_global, binary_global2)\\n    sum2=binary_global.sum()\\n    percentage=sum2/areaimage\\n    global_thresh=0\\n  #if low amount of red in image, look for green using otsu threhsold\\n    if percentage < 0.05:\\n  #boundaries for greenapples\\n      global_thresh = threshold_otsu(imgmedian)\\n      binary_global=(imgmedian<global_thresh)\\n      binary_global2=imgmedian>0.35\\n      binary_global= np.logical_or(binary_global, binary_global2)\\n\\n  #open and close the image to remove objects inside and around the masked area\\n    mask = morphology.remove_small_holes(binary_global,areaimage/100) \\n    mask1=morphology.remove_small_objects(mask,areaimage/100)\\n\\n# Now we want to separate the two objects in image\\n# Generate the markers as local maxima of the distance\\n# to the background\\n    distance = ndimage.distance_transform_edt(mask1)\\n    local_maxi = peak_local_max(\\n    distance, indices=False, labels=mask1, min_distance=10)\\n    markers = measure.label(local_maxi)\\n    labels_ws = watershed(-distance, markers, mask=mask1)\\n  #count number of different regions to find number of apples\\n  \\n    detectedapples.append(len(np.unique(labels_ws))-1)\\n\\n    #optional plots, comment in or out to visualise results\\n    #histograms, shows global the thresholds created on the histogram\\n    #thresholds, displays created thresholds for red and green apples\\n    #binary_clearup, shows results from thresholding and the result of removing small objects/holes\\n    #watershedseg, shows results from watershed segmentation\\n  \\n\\n    #histograms(greyimage,imgoriginal)\\n    #thresholds(imgoriginal,imgmedian,global_thresh)  \\n    #binary_clearup(image,binary_global,mask1)\\n    #watershedseg(image,mask1,labels_ws,path)\\n    \\n  abs_error_percentage=mean_absolute_percentage_error(actualapples, detectedapples)*100\\n  accuracy=100-abs_error_percentage\\n\\n  print ('Absolute error as a percentage: ' + str(abs_error_percentage) + '%')\\n  print ('Accuracy: ' + str(accuracy) + ' %')\\n\\n\\n  return accuracy,abs_error_percentage\\n  \""
            ],
            "application/vnd.google.colaboratory.intrinsic+json": {
              "type": "string"
            }
          },
          "metadata": {},
          "execution_count": 71
        }
      ]
    },
    {
      "cell_type": "code",
      "source": [
        "def experimentResults(detectedList, gtList, numberapples):\n",
        "  # This function helps to assess the performance of approach A\n",
        "  # Inputs: \n",
        "  # - detectedList: List of dictionaries with key being the filename and value\n",
        "  # being the number of detected apples in the image\n",
        "  # - gtList: ground truth with the desired predicted number of apples\n",
        "  # - numberapples: number of apples per image\n",
        "\n",
        "  print(\"Results - Counting \" + numberapples + \" apple(s)\")\n",
        "\n",
        "  for i in range(0, len(detectedList)):\n",
        "    # Separate filename from number of detected/predicted number of apples\n",
        "    keys_detected = list(detectedList[i][0].keys())\n",
        "    keys_actual = list(gtList[i].keys())\n",
        "    values_detected = list(detectedList[i][0].values())\n",
        "    values_actual = list(gtList[i].values())\n",
        "\n",
        "    # Calculate the mean absolute error\n",
        "    error_temp = {}\n",
        "    accuracy_temp = {}\n",
        "    for j in range(len(values_detected)):\n",
        "      error_temp[keys_detected[j]] = (abs(int(values_actual[j])-int(values_detected[j]))/int(values_actual[j]))\n",
        "      accuracy_temp[keys_detected[j]] = 1 - error_temp[keys_detected[j]]\n",
        "    \n",
        "    # Obtain the confusion matrix\n",
        "    # It is important to reformate the data so that we can recreate a True and False scenario\n",
        "    values_detected_bool = []\n",
        "    values_actual_bool = []\n",
        "    for x in range(0, len(values_detected)):\n",
        "      # If the number of detected apples is equal to the number of apples in the image,\n",
        "      # return True, i.e. \"Yes\", else return False, i.e. \"No\"\n",
        "      if values_detected[x] == int(numberapples):\n",
        "        values_detected_bool.append(\"Yes\")\n",
        "      else:\n",
        "        values_detected_bool.append(\"No\")\n",
        "\n",
        "    # If the number of predicted apples is equal to the number of apples in the image,\n",
        "    # return True, i.e. \"Yes\", else return False, i.e. \"No\"\n",
        "    # For this step, it is expected to get a list of \"Yes\" since it is the ground truth\n",
        "    for k in range(0, len(values_actual)):\n",
        "      if values_actual[k] == numberapples:\n",
        "        values_actual_bool.append(\"Yes\")\n",
        "      else:\n",
        "        values_actual_bool.append(\"No\")\n",
        "\n",
        "\n",
        "    print(\"-----Sample \" + str(i+1) + \"------------\")   \n",
        "\n",
        "    print(\"Confusion Matrix\")\n",
        "\n",
        "    cf_matrix = metrics.confusion_matrix(values_detected_bool, values_actual_bool)\n",
        "    cm_display = metrics.ConfusionMatrixDisplay(confusion_matrix = cf_matrix, display_labels = [False, True])\n",
        "\n",
        "    cm_display.plot()\n",
        "    plt.show()\n",
        "\n",
        "    # Extract TP and FN values from confusion matrix and derive the TPR/accuracy\n",
        "    TP = cf_matrix[1][1]\n",
        "    FN = cf_matrix[0][1]\n",
        "    TPR = round(100*(TP/(TP+FN)),3)\n",
        "\n",
        "    print(\"---------------------------\")\n",
        "\n",
        "    print(\"Results of confusion matrix\")\n",
        "    print(\"---------------------------\")\n",
        "    print(\"TP =\", TP)\n",
        "    print(\"FN =\", FN)\n",
        "    print(\"TPR =\", TPR)\n",
        "    print(\"---------------------------\")\n",
        "\n",
        "    print(\"Mean Error = \", round(statistics.mean(error_temp.values()),3))\n",
        "\n",
        "    print(\"---------------------------\")\n",
        "\n",
        "    print(\"Mean Accuracy = \", round(statistics.mean(accuracy_temp.values()),3))\n",
        "\n",
        "    print(\"---------------------------\")\n",
        "\n",
        "    print(\"Execution time = \", round(detectedList[i][1],3))\n",
        "\n",
        "    print(\"---------------------------\")"
      ],
      "metadata": {
        "id": "ATJRHBVI-UpW"
      },
      "execution_count": null,
      "outputs": []
    },
    {
      "cell_type": "markdown",
      "source": [
        "# Run script -  Sorting"
      ],
      "metadata": {
        "id": "8oeskVDEq-Tw"
      }
    },
    {
      "cell_type": "code",
      "source": [
        "# Here, the extraction, thresholding and results functions can be run\n",
        "# Comment in the plotting functions within the thresholding function to visualise the results\n",
        "\n",
        "# 1- Extraction \n",
        "# 1-a) Sort JSON file based on the number of apples\n",
        "images1apple = sortingGroundTruth(images_data1, ground_truth, numberapple_1)\n",
        "images2apple = sortingGroundTruth(images_data2, ground_truth, numberapple_2)\n",
        "images3apple = sortingGroundTruth(images_data3, ground_truth, numberapple_3)\n",
        "images4apple = sortingGroundTruth(images_data4, ground_truth, numberapple_4)\n",
        "\n",
        "# 1-b) Split ground truths in different groups to test performance of the \n",
        "# proposed algorithm on different groups. Save these groups in arrays\n",
        "test_1apple = testSorting(images1apple, group_desired)\n",
        "test_2apple = testSorting(images2apple, group_desired)\n",
        "test_3apple = testSorting(images3apple, group_desired)\n",
        "test_4apple = testSorting(images4apple, group_desired)\n",
        "\n",
        "# 2 - Thresholding\n",
        "detected1apple = resultsArray(fileDir1, test_1apple, images1apple)\n",
        "detected2apple = resultsArray(fileDir2, test_2apple, images2apple)\n",
        "detected3apple = resultsArray(fileDir3, test_3apple, images3apple)\n",
        "detected4apple = resultsArray(fileDir4, test_4apple, images4apple)\n",
        "\n",
        "# 3- Results\n",
        "# For get the results for a specific folder, i.e. with the desired number of\n",
        "# apples, uncomment one of the following lines\n",
        "experimentResults(detected1apple, test_1apple, numberapple_1)\n",
        "#experimentResults(detected2apple, test_2apple, numberapple_2)\n",
        "#experimentResults(detected3apple, test_3apple, numberapple_3)\n",
        "#experimentResults(detected4apple, test_4apple, numberapple_4)"
      ],
      "metadata": {
        "colab": {
          "base_uri": "https://localhost:8080/",
          "height": 1000
        },
        "id": "3fJ6BxSD88W1",
        "outputId": "aa4eb431-5c68-49b1-ffc8-aaaeca69dee8"
      },
      "execution_count": null,
      "outputs": [
        {
          "output_type": "stream",
          "name": "stderr",
          "text": [
            "<ipython-input-70-7951a0662b42>:52: FutureWarning: indices argument is deprecated and will be removed in version 0.20. To avoid this warning, please do not use the indices argument. Please see peak_local_max documentation for more details.\n",
            "  local_maxi = peak_local_max(\n"
          ]
        },
        {
          "output_type": "stream",
          "name": "stdout",
          "text": [
            "Results - Counting 1 apple(s)\n",
            "-----Sample 1------------\n",
            "Confusion Matrix\n"
          ]
        },
        {
          "output_type": "display_data",
          "data": {
            "text/plain": [
              "<Figure size 432x288 with 2 Axes>"
            ],
            "image/png": "[encoded data removed]"
          },
          "metadata": {
            "needs_background": "light"
          }
        },
        {
          "output_type": "stream",
          "name": "stdout",
          "text": [
            "---------------------------\n",
            "Results of confusion matrix\n",
            "---------------------------\n",
            "TP = 34\n",
            "FN = 16\n",
            "TPR = 68.0\n",
            "---------------------------\n",
            "Mean Error =  0.32\n",
            "---------------------------\n",
            "Mean Accuracy =  0.68\n",
            "---------------------------\n",
            "Execution time =  0.636\n",
            "---------------------------\n",
            "-----Sample 2------------\n",
            "Confusion Matrix\n"
          ]
        },
        {
          "output_type": "display_data",
          "data": {
            "text/plain": [
              "<Figure size 432x288 with 2 Axes>"
            ],
            "image/png": "[encoded data removed]"
          },
          "metadata": {
            "needs_background": "light"
          }
        },
        {
          "output_type": "stream",
          "name": "stdout",
          "text": [
            "---------------------------\n",
            "Results of confusion matrix\n",
            "---------------------------\n",
            "TP = 37\n",
            "FN = 13\n",
            "TPR = 74.0\n",
            "---------------------------\n",
            "Mean Error =  0.34\n",
            "---------------------------\n",
            "Mean Accuracy =  0.66\n",
            "---------------------------\n",
            "Execution time =  0.419\n",
            "---------------------------\n",
            "-----Sample 3------------\n",
            "Confusion Matrix\n"
          ]
        },
        {
          "output_type": "display_data",
          "data": {
            "text/plain": [
              "<Figure size 432x288 with 2 Axes>"
            ],
            "image/png": "[encoded data removed]"
          },
          "metadata": {
            "needs_background": "light"
          }
        },
        {
          "output_type": "stream",
          "name": "stdout",
          "text": [
            "---------------------------\n",
            "Results of confusion matrix\n",
            "---------------------------\n",
            "TP = 26\n",
            "FN = 24\n",
            "TPR = 52.0\n",
            "---------------------------\n",
            "Mean Error =  0.48\n",
            "---------------------------\n",
            "Mean Accuracy =  0.52\n",
            "---------------------------\n",
            "Execution time =  0.27\n",
            "---------------------------\n",
            "-----Sample 4------------\n",
            "Confusion Matrix\n"
          ]
        },
        {
          "output_type": "display_data",
          "data": {
            "text/plain": [
              "<Figure size 432x288 with 2 Axes>"
            ],
            "image/png": "[encoded data removed]"
          },
          "metadata": {
            "needs_background": "light"
          }
        },
        {
          "output_type": "stream",
          "name": "stdout",
          "text": [
            "---------------------------\n",
            "Results of confusion matrix\n",
            "---------------------------\n",
            "TP = 8\n",
            "FN = 5\n",
            "TPR = 61.538\n",
            "---------------------------\n",
            "Mean Error =  0.385\n",
            "---------------------------\n",
            "Mean Accuracy =  0.615\n",
            "---------------------------\n",
            "Execution time =  0.072\n",
            "---------------------------\n"
          ]
        }
      ]
    },
    {
      "cell_type": "code",
      "source": [
        "'''\n",
        "#Here, the extraction and thresholding functions can be run\n",
        "#Comment in the plotting functions within the thresholding function to visualise the results\n",
        "\n",
        "for i in range (1,5):\n",
        "  t0=time.time()\n",
        "  print('Number of apples to predict: ' + str(i))\n",
        "  actualapples,images,path,count=ground_truth(i,'/content/drive/MyDrive/ground_truth.json')\n",
        "  accuracy,error=threshold_count(actualapples,images,path)\n",
        "  t1=time.time()\n",
        "  print('Time to execute: ' +str(t1-t0) + 's\\n')\n",
        "'''"
      ],
      "metadata": {
        "colab": {
          "base_uri": "https://localhost:8080/",
          "height": 374
        },
        "id": "0as7NjFfwvxi",
        "outputId": "3217007f-ee1e-492f-8df1-be673625d527"
      },
      "execution_count": null,
      "outputs": [
        {
          "output_type": "stream",
          "name": "stdout",
          "text": [
            "Number of apples to predict: 1\n"
          ]
        },
        {
          "output_type": "error",
          "ename": "FileNotFoundError",
          "evalue": "ignored",
          "traceback": [
            "\u001b[0;31m---------------------------------------------------------------------------\u001b[0m",
            "\u001b[0;31mFileNotFoundError\u001b[0m                         Traceback (most recent call last)",
            "\u001b[0;32m<ipython-input-33-caf6954fe152>\u001b[0m in \u001b[0;36m<module>\u001b[0;34m\u001b[0m\n\u001b[1;32m      5\u001b[0m   \u001b[0mt0\u001b[0m\u001b[0;34m=\u001b[0m\u001b[0mtime\u001b[0m\u001b[0;34m.\u001b[0m\u001b[0mtime\u001b[0m\u001b[0;34m(\u001b[0m\u001b[0;34m)\u001b[0m\u001b[0;34m\u001b[0m\u001b[0;34m\u001b[0m\u001b[0m\n\u001b[1;32m      6\u001b[0m   \u001b[0mprint\u001b[0m\u001b[0;34m(\u001b[0m\u001b[0;34m'Number of apples to predict: '\u001b[0m \u001b[0;34m+\u001b[0m \u001b[0mstr\u001b[0m\u001b[0;34m(\u001b[0m\u001b[0mi\u001b[0m\u001b[0;34m)\u001b[0m\u001b[0;34m)\u001b[0m\u001b[0;34m\u001b[0m\u001b[0;34m\u001b[0m\u001b[0m\n\u001b[0;32m----> 7\u001b[0;31m   \u001b[0mactualapples\u001b[0m\u001b[0;34m,\u001b[0m\u001b[0mimages\u001b[0m\u001b[0;34m,\u001b[0m\u001b[0mpath\u001b[0m\u001b[0;34m,\u001b[0m\u001b[0mcount\u001b[0m\u001b[0;34m=\u001b[0m\u001b[0mground_truth\u001b[0m\u001b[0;34m(\u001b[0m\u001b[0mi\u001b[0m\u001b[0;34m,\u001b[0m\u001b[0;34m'/content/drive/MyDrive/Machine Vision/test_data/test_data/counting/ground_truth.json'\u001b[0m\u001b[0;34m)\u001b[0m\u001b[0;34m\u001b[0m\u001b[0;34m\u001b[0m\u001b[0m\n\u001b[0m\u001b[1;32m      8\u001b[0m   \u001b[0maccuracy\u001b[0m\u001b[0;34m,\u001b[0m\u001b[0merror\u001b[0m\u001b[0;34m=\u001b[0m\u001b[0mthreshold_count\u001b[0m\u001b[0;34m(\u001b[0m\u001b[0mactualapples\u001b[0m\u001b[0;34m,\u001b[0m\u001b[0mimages\u001b[0m\u001b[0;34m,\u001b[0m\u001b[0mpath\u001b[0m\u001b[0;34m)\u001b[0m\u001b[0;34m\u001b[0m\u001b[0;34m\u001b[0m\u001b[0m\n\u001b[1;32m      9\u001b[0m   \u001b[0mt1\u001b[0m\u001b[0;34m=\u001b[0m\u001b[0mtime\u001b[0m\u001b[0;34m.\u001b[0m\u001b[0mtime\u001b[0m\u001b[0;34m(\u001b[0m\u001b[0;34m)\u001b[0m\u001b[0;34m\u001b[0m\u001b[0;34m\u001b[0m\u001b[0m\n",
            "\u001b[0;32m<ipython-input-29-d442ed7c4bb5>\u001b[0m in \u001b[0;36mground_truth\u001b[0;34m(applenumber, pathlocation)\u001b[0m\n\u001b[1;32m      8\u001b[0m \u001b[0;34m\u001b[0m\u001b[0m\n\u001b[1;32m      9\u001b[0m   \u001b[0mjs\u001b[0m \u001b[0;34m=\u001b[0m \u001b[0mjson\u001b[0m\u001b[0;34m.\u001b[0m\u001b[0mloads\u001b[0m\u001b[0;34m(\u001b[0m\u001b[0mdata\u001b[0m\u001b[0;34m)\u001b[0m\u001b[0;34m\u001b[0m\u001b[0;34m\u001b[0m\u001b[0m\n\u001b[0;32m---> 10\u001b[0;31m   \u001b[0mimages\u001b[0m\u001b[0;34m=\u001b[0m\u001b[0mos\u001b[0m\u001b[0;34m.\u001b[0m\u001b[0mlistdir\u001b[0m\u001b[0;34m(\u001b[0m\u001b[0mpath\u001b[0m\u001b[0;34m)\u001b[0m\u001b[0;34m\u001b[0m\u001b[0;34m\u001b[0m\u001b[0m\n\u001b[0m\u001b[1;32m     11\u001b[0m   \u001b[0mcount\u001b[0m\u001b[0;34m=\u001b[0m\u001b[0mlen\u001b[0m\u001b[0;34m(\u001b[0m\u001b[0mimages\u001b[0m\u001b[0;34m)\u001b[0m\u001b[0;34m\u001b[0m\u001b[0;34m\u001b[0m\u001b[0m\n\u001b[1;32m     12\u001b[0m   \u001b[0;32mfor\u001b[0m \u001b[0mi\u001b[0m \u001b[0;32min\u001b[0m \u001b[0mrange\u001b[0m\u001b[0;34m(\u001b[0m\u001b[0mcount\u001b[0m\u001b[0;34m)\u001b[0m\u001b[0;34m:\u001b[0m\u001b[0;34m\u001b[0m\u001b[0;34m\u001b[0m\u001b[0m\n",
            "\u001b[0;31mFileNotFoundError\u001b[0m: [Errno 2] No such file or directory: 'mldata/test/1'"
          ]
        }
      ]
    }
  ],
  "metadata": {
    "accelerator": "GPU",
    "colab": {
      "provenance": [],
      "collapsed_sections": [
        "mubnBSozXlvX",
        "KeBwXCBDqDdE",
        "2ONwvFyPrCdw",
        "iwYNxHzrVH3D",
        "_KrdjNI0T9cV",
        "SMa1xfgMVoO9",
        "XA8lVexWWkBW",
        "JkekwiQYS4Tp",
        "OK3LFD-NoJST",
        "bBsLPmLAw9HX",
        "zWMdy353woa5",
        "8oeskVDEq-Tw"
      ],
      "toc_visible": true
    },
    "gpuClass": "standard",
    "kernelspec": {
      "display_name": "Python 3",
      "name": "python3"
    },
    "language_info": {
      "name": "python"
    }
  },
  "nbformat": 4,
  "nbformat_minor": 0
}